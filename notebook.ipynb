{
 "cells": [
  {
   "cell_type": "code",
   "execution_count": 1,
   "metadata": {
    "_kg_hide-input": true,
    "executionInfo": {
     "elapsed": 15,
     "status": "ok",
     "timestamp": 1716057815321,
     "user": {
      "displayName": "曾若恩",
      "userId": "06852139178101415021"
     },
     "user_tz": -480
    },
    "id": "hDYQejlY-KYQ"
   },
   "outputs": [],
   "source": [
    "# set seeds to ensure repeatability of results\n",
    "from numpy.random import seed\n",
    "seed(101)\n",
    "import tensorflow\n",
    "tensorflow.random.set_seed(101)\n",
    "\n",
    "import pandas as pd\n",
    "import numpy as np\n",
    "import os\n",
    "import cv2\n",
    "from tqdm import tqdm\n",
    "\n",
    "from tensorflow.keras.models import Sequential\n",
    "from tensorflow.keras.layers import Dense, Dropout, Conv2D, MaxPooling2D, Flatten, ZeroPadding2D\n",
    "from tensorflow.keras.layers import BatchNormalization, LeakyReLU\n",
    "from tensorflow.keras.optimizers import Adam\n",
    "from tensorflow.keras.metrics import categorical_crossentropy\n",
    "from tensorflow.keras.preprocessing.image import ImageDataGenerator\n",
    "from tensorflow.keras.models import Model\n",
    "from tensorflow.keras.callbacks import EarlyStopping, ReduceLROnPlateau, ModelCheckpoint\n",
    "from tensorflow.keras.metrics import binary_accuracy\n",
    "\n",
    "import matplotlib.pyplot as plt\n",
    "%matplotlib inline\n",
    "\n",
    "from skimage.io import imread, imshow\n",
    "from skimage.transform import resize\n",
    "\n",
    "\n",
    "# Don't Show Warning Messages\n",
    "import warnings\n",
    "#warnings.filterwarnings('ignore')"
   ]
  },
  {
   "cell_type": "code",
   "execution_count": 2,
   "metadata": {},
   "outputs": [
    {
     "name": "stdout",
     "output_type": "stream",
     "text": [
      "Python 3.11.9\n"
     ]
    }
   ],
   "source": [
    "!python --version"
   ]
  },
  {
   "cell_type": "code",
   "execution_count": 3,
   "metadata": {
    "_kg_hide-input": true,
    "executionInfo": {
     "elapsed": 14,
     "status": "ok",
     "timestamp": 1716057815321,
     "user": {
      "displayName": "曾若恩",
      "userId": "06852139178101415021"
     },
     "user_tz": -480
    },
    "id": "M8VTqG7b-KYV"
   },
   "outputs": [],
   "source": [
    "IMG_HEIGHT = 128\n",
    "IMG_WIDTH = 128\n",
    "IMG_CHANNELS = 3\n",
    "\n",
    "PADDING = 40\n",
    "\n",
    "NUM_TEST_IMAGES = 10"
   ]
  },
  {
   "cell_type": "markdown",
   "metadata": {
    "id": "kR0vJXG8-KYX"
   },
   "source": [
    "## Introduction"
   ]
  },
  {
   "cell_type": "markdown",
   "metadata": {
    "id": "QsHFUNXh-KYt"
   },
   "source": [
    "In this kernel our goal is to build a computer vision model that can look at a mask of a micropscope slide and predict how many cells are present.\n",
    "\n",
    "This is a link to a web interface where a similar model has been deployed. You can submit jpg mask images and get an automatic cell count. Please use the Chrome browser for best results.<br>\n",
    "http://cellcount.test.woza.work/\n",
    "\n",
    "This site can be used to convert images from TIF to jpg format.<br>\n",
    "https://tiff2jpg.com/\n",
    "\n",
    "\n"
   ]
  },
  {
   "cell_type": "code",
   "execution_count": 34,
   "metadata": {
    "colab": {
     "base_uri": "https://localhost:8080/",
     "height": 211
    },
    "executionInfo": {
     "elapsed": 320,
     "status": "error",
     "timestamp": 1716057828195,
     "user": {
      "displayName": "曾若恩",
      "userId": "06852139178101415021"
     },
     "user_tz": -480
    },
    "id": "Zegd9Mhs-KYu",
    "outputId": "4650bfd6-7ea5-4523-c363-2ecf561de849"
   },
   "outputs": [
    {
     "name": "stderr",
     "output_type": "stream",
     "text": [
      "100%|██████████████████████████████████████████████████████████████████████████████| 8999/8999 [04:23<00:00, 34.11it/s]\n"
     ]
    }
   ],
   "source": [
    "# ==============================\n",
    "# Make a List of Test Set Masks\n",
    "# ==============================\n",
    "\n",
    "#pd.set_option('display.max_rows', None)\n",
    "\n",
    "test_list = os.listdir('./BBBC005_v1_images/BBBC005_v1_images/')\n",
    "test_list = pd.DataFrame(test_list, columns=['image_id'])\n",
    "test_list = test_list[test_list['image_id'] != '.htaccess']\n",
    "\n",
    "mask_list = os.listdir('./BBBC005_v1_ground_truth/BBBC005_v1_ground_truth/')\n",
    "mask_list = pd.DataFrame(mask_list, columns=['image_id'])\n",
    "mask_list = mask_list[mask_list['image_id'] != '.htaccess']\n",
    "test_list = test_list[~test_list['image_id'].isin(mask_list['image_id'])]\n",
    "test_list = test_list.reset_index(drop=True)\n",
    "\n",
    "def get_num_cells(x):\n",
    "    a = x.split('_')\n",
    "    b = a[2]\n",
    "    num_cells = int(b[1:])\n",
    "    return num_cells\n",
    "\n",
    "def get_stain(x):\n",
    "    a = x.split('_')\n",
    "    b = a[5].split('.')\n",
    "    stain = int(b[0][1])\n",
    "    return stain\n",
    "\n",
    "test_list['num_cells'] = test_list['image_id'].apply(get_num_cells)\n",
    "test_list['stain'] = test_list['image_id'].apply(get_stain)\n",
    "\n",
    "#For cell body stain (W1)\n",
    "#test_list = test_list[test_list['stain'] == 1]\n",
    "#For nuclei stain (W2)\n",
    "#test_list = test_list[test_list['stain'] == 2]\n",
    "\n",
    "test_list = test_list.reset_index(drop=True)\n",
    "\n",
    "X_test = np.zeros((len(test_list), IMG_HEIGHT, IMG_WIDTH, IMG_CHANNELS))\n",
    "\n",
    "for i in tqdm(range(test_list.shape[0]-1)):\n",
    "    path_mask = './BBBC005_v1_images/BBBC005_v1_images/' + test_list['image_id'][i+1]\n",
    "    cv2_image = cv2.imread(path_mask)\n",
    "\n",
    "    cv2_image = cv2.resize(cv2_image, (IMG_HEIGHT, IMG_WIDTH))\n",
    "    cv2.imwrite('mask.jpg', cv2_image)\n",
    "    mask = imread('mask.jpg')\n",
    "    X_test[i] = mask\n",
    "\n",
    "test_id_list = test_list['image_id']\n",
    "test_id_list = test_id_list.to_list()\n",
    "num_cells = test_list['num_cells']\n",
    "num_cells = num_cells.to_list()"
   ]
  },
  {
   "cell_type": "markdown",
   "metadata": {
    "id": "AB7EblQN-KYx"
   },
   "source": [
    "<hr>"
   ]
  },
  {
   "cell_type": "markdown",
   "metadata": {
    "id": "ye3X7GP0-KYy"
   },
   "source": [
    "## Put all info into a dataframe"
   ]
  },
  {
   "cell_type": "code",
   "execution_count": 5,
   "metadata": {
    "_kg_hide-input": true,
    "executionInfo": {
     "elapsed": 9,
     "status": "aborted",
     "timestamp": 1716057815322,
     "user": {
      "displayName": "曾若恩",
      "userId": "06852139178101415021"
     },
     "user_tz": -480
    },
    "id": "UueCA_-B-KYz"
   },
   "outputs": [],
   "source": [
    "# get a list of files in each folder\n",
    "\n",
    "img_list = os.listdir('./BBBC005_v1_images/BBBC005_v1_images')\n",
    "mask_list = os.listdir('./BBBC005_v1_ground_truth/BBBC005_v1_ground_truth')\n",
    "\n",
    "# create a dataframe\n",
    "df_images = pd.DataFrame(img_list, columns=['image_id'])\n",
    "\n",
    "# filter out the non image file that's called .htaccess\n",
    "df_images = df_images[df_images['image_id'] != '.htaccess']\n",
    "\n",
    "\n",
    "\n",
    "# Example file name: SIMCEPImages_A13_C53_F1_s23_w2.TIF\n",
    "\n",
    "\n",
    "# ======================================================\n",
    "# Add a column showing how many cells are on each image\n",
    "# ======================================================\n",
    "\n",
    "def get_num_cells(x):\n",
    "    # split on the _\n",
    "    a = x.split('_')\n",
    "    # choose the third item\n",
    "    b = a[2] # e.g. C53\n",
    "    # choose second item onwards and convert to int\n",
    "    num_cells = int(b[1:])\n",
    "\n",
    "    return num_cells\n",
    "\n",
    "# create a new column called 'num_cells'\n",
    "df_images['num_cells'] = df_images['image_id'].apply(get_num_cells)\n",
    "\n",
    "\n",
    "# ================================================\n",
    "# Add a column indicating if an image has a mask.\n",
    "# ================================================\n",
    "\n",
    "# Keep in mind images and masks have the same file names.\n",
    "\n",
    "def check_for_mask(x):\n",
    "    if x in mask_list:\n",
    "        return 'yes'\n",
    "    else:\n",
    "        return 'no'\n",
    "\n",
    "# create a new column called 'has_mask'\n",
    "df_images['has_mask'] = df_images['image_id'].apply(check_for_mask)\n",
    "\n",
    "\n",
    "\n",
    "# ===========================================================\n",
    "# Add a column showing how much blur was added to each image\n",
    "# ===========================================================\n",
    "\n",
    "def get_blur_amt(x):\n",
    "    # split on the _\n",
    "    a = x.split('_')\n",
    "    # choose the third item\n",
    "    b = a[3] # e.g. F1\n",
    "    # choose second item onwards and convert to int\n",
    "    blur_amt = int(b[1:])\n",
    "\n",
    "    return blur_amt\n",
    "\n",
    "# create a new column called 'blur_amt'\n",
    "df_images['blur_amt'] = df_images['image_id'].apply(get_blur_amt)\n"
   ]
  },
  {
   "cell_type": "code",
   "execution_count": 6,
   "metadata": {
    "executionInfo": {
     "elapsed": 9,
     "status": "aborted",
     "timestamp": 1716057815322,
     "user": {
      "displayName": "曾若恩",
      "userId": "06852139178101415021"
     },
     "user_tz": -480
    },
    "id": "SPLu_FTs-KY0"
   },
   "outputs": [
    {
     "data": {
      "text/html": [
       "<div>\n",
       "<style scoped>\n",
       "    .dataframe tbody tr th:only-of-type {\n",
       "        vertical-align: middle;\n",
       "    }\n",
       "\n",
       "    .dataframe tbody tr th {\n",
       "        vertical-align: top;\n",
       "    }\n",
       "\n",
       "    .dataframe thead th {\n",
       "        text-align: right;\n",
       "    }\n",
       "</style>\n",
       "<table border=\"1\" class=\"dataframe\">\n",
       "  <thead>\n",
       "    <tr style=\"text-align: right;\">\n",
       "      <th></th>\n",
       "      <th>image_id</th>\n",
       "      <th>num_cells</th>\n",
       "      <th>has_mask</th>\n",
       "      <th>blur_amt</th>\n",
       "    </tr>\n",
       "  </thead>\n",
       "  <tbody>\n",
       "    <tr>\n",
       "      <th>1</th>\n",
       "      <td>SIMCEPImages_A01_C1_F1_s01_w1.TIF</td>\n",
       "      <td>1</td>\n",
       "      <td>yes</td>\n",
       "      <td>1</td>\n",
       "    </tr>\n",
       "    <tr>\n",
       "      <th>2</th>\n",
       "      <td>SIMCEPImages_A01_C1_F1_s01_w2.TIF</td>\n",
       "      <td>1</td>\n",
       "      <td>yes</td>\n",
       "      <td>1</td>\n",
       "    </tr>\n",
       "    <tr>\n",
       "      <th>3</th>\n",
       "      <td>SIMCEPImages_A01_C1_F1_s02_w1.TIF</td>\n",
       "      <td>1</td>\n",
       "      <td>yes</td>\n",
       "      <td>1</td>\n",
       "    </tr>\n",
       "    <tr>\n",
       "      <th>4</th>\n",
       "      <td>SIMCEPImages_A01_C1_F1_s02_w2.TIF</td>\n",
       "      <td>1</td>\n",
       "      <td>yes</td>\n",
       "      <td>1</td>\n",
       "    </tr>\n",
       "    <tr>\n",
       "      <th>5</th>\n",
       "      <td>SIMCEPImages_A01_C1_F1_s03_w1.TIF</td>\n",
       "      <td>1</td>\n",
       "      <td>yes</td>\n",
       "      <td>1</td>\n",
       "    </tr>\n",
       "  </tbody>\n",
       "</table>\n",
       "</div>"
      ],
      "text/plain": [
       "                            image_id  num_cells has_mask  blur_amt\n",
       "1  SIMCEPImages_A01_C1_F1_s01_w1.TIF          1      yes         1\n",
       "2  SIMCEPImages_A01_C1_F1_s01_w2.TIF          1      yes         1\n",
       "3  SIMCEPImages_A01_C1_F1_s02_w1.TIF          1      yes         1\n",
       "4  SIMCEPImages_A01_C1_F1_s02_w2.TIF          1      yes         1\n",
       "5  SIMCEPImages_A01_C1_F1_s03_w1.TIF          1      yes         1"
      ]
     },
     "execution_count": 6,
     "metadata": {},
     "output_type": "execute_result"
    }
   ],
   "source": [
    "df_images.head()"
   ]
  },
  {
   "cell_type": "markdown",
   "metadata": {
    "id": "wSgoFx3p-KY2"
   },
   "source": [
    "## Create a df containing only masks"
   ]
  },
  {
   "cell_type": "code",
   "execution_count": 7,
   "metadata": {
    "executionInfo": {
     "elapsed": 10,
     "status": "aborted",
     "timestamp": 1716057815323,
     "user": {
      "displayName": "曾若恩",
      "userId": "06852139178101415021"
     },
     "user_tz": -480
    },
    "id": "gzrV_-kV-KY3"
   },
   "outputs": [
    {
     "name": "stderr",
     "output_type": "stream",
     "text": [
      "C:\\Users\\riann\\AppData\\Local\\Temp\\ipykernel_448\\2329185241.py:4: SettingWithCopyWarning: \n",
      "A value is trying to be set on a copy of a slice from a DataFrame.\n",
      "Try using .loc[row_indexer,col_indexer] = value instead\n",
      "\n",
      "See the caveats in the documentation: https://pandas.pydata.org/pandas-docs/stable/user_guide/indexing.html#returning-a-view-versus-a-copy\n",
      "  df_masks['mask_id'] = df_masks['image_id']\n"
     ]
    },
    {
     "data": {
      "text/plain": [
       "(1200, 5)"
      ]
     },
     "execution_count": 7,
     "metadata": {},
     "output_type": "execute_result"
    }
   ],
   "source": [
    "df_masks = df_images[df_images['has_mask'] == 'yes']\n",
    "\n",
    "# create a new column called mask_id that is just a copy of image_id\n",
    "df_masks['mask_id'] = df_masks['image_id']\n",
    "\n",
    "df_masks.shape"
   ]
  },
  {
   "cell_type": "code",
   "execution_count": 8,
   "metadata": {
    "executionInfo": {
     "elapsed": 10,
     "status": "aborted",
     "timestamp": 1716057815323,
     "user": {
      "displayName": "曾若恩",
      "userId": "06852139178101415021"
     },
     "user_tz": -480
    },
    "id": "k_WTMehY-KY3"
   },
   "outputs": [
    {
     "data": {
      "text/html": [
       "<div>\n",
       "<style scoped>\n",
       "    .dataframe tbody tr th:only-of-type {\n",
       "        vertical-align: middle;\n",
       "    }\n",
       "\n",
       "    .dataframe tbody tr th {\n",
       "        vertical-align: top;\n",
       "    }\n",
       "\n",
       "    .dataframe thead th {\n",
       "        text-align: right;\n",
       "    }\n",
       "</style>\n",
       "<table border=\"1\" class=\"dataframe\">\n",
       "  <thead>\n",
       "    <tr style=\"text-align: right;\">\n",
       "      <th></th>\n",
       "      <th>image_id</th>\n",
       "      <th>num_cells</th>\n",
       "      <th>has_mask</th>\n",
       "      <th>blur_amt</th>\n",
       "      <th>mask_id</th>\n",
       "    </tr>\n",
       "  </thead>\n",
       "  <tbody>\n",
       "    <tr>\n",
       "      <th>1</th>\n",
       "      <td>SIMCEPImages_A01_C1_F1_s01_w1.TIF</td>\n",
       "      <td>1</td>\n",
       "      <td>yes</td>\n",
       "      <td>1</td>\n",
       "      <td>SIMCEPImages_A01_C1_F1_s01_w1.TIF</td>\n",
       "    </tr>\n",
       "    <tr>\n",
       "      <th>2</th>\n",
       "      <td>SIMCEPImages_A01_C1_F1_s01_w2.TIF</td>\n",
       "      <td>1</td>\n",
       "      <td>yes</td>\n",
       "      <td>1</td>\n",
       "      <td>SIMCEPImages_A01_C1_F1_s01_w2.TIF</td>\n",
       "    </tr>\n",
       "    <tr>\n",
       "      <th>3</th>\n",
       "      <td>SIMCEPImages_A01_C1_F1_s02_w1.TIF</td>\n",
       "      <td>1</td>\n",
       "      <td>yes</td>\n",
       "      <td>1</td>\n",
       "      <td>SIMCEPImages_A01_C1_F1_s02_w1.TIF</td>\n",
       "    </tr>\n",
       "    <tr>\n",
       "      <th>4</th>\n",
       "      <td>SIMCEPImages_A01_C1_F1_s02_w2.TIF</td>\n",
       "      <td>1</td>\n",
       "      <td>yes</td>\n",
       "      <td>1</td>\n",
       "      <td>SIMCEPImages_A01_C1_F1_s02_w2.TIF</td>\n",
       "    </tr>\n",
       "    <tr>\n",
       "      <th>5</th>\n",
       "      <td>SIMCEPImages_A01_C1_F1_s03_w1.TIF</td>\n",
       "      <td>1</td>\n",
       "      <td>yes</td>\n",
       "      <td>1</td>\n",
       "      <td>SIMCEPImages_A01_C1_F1_s03_w1.TIF</td>\n",
       "    </tr>\n",
       "  </tbody>\n",
       "</table>\n",
       "</div>"
      ],
      "text/plain": [
       "                            image_id  num_cells has_mask  blur_amt  \\\n",
       "1  SIMCEPImages_A01_C1_F1_s01_w1.TIF          1      yes         1   \n",
       "2  SIMCEPImages_A01_C1_F1_s01_w2.TIF          1      yes         1   \n",
       "3  SIMCEPImages_A01_C1_F1_s02_w1.TIF          1      yes         1   \n",
       "4  SIMCEPImages_A01_C1_F1_s02_w2.TIF          1      yes         1   \n",
       "5  SIMCEPImages_A01_C1_F1_s03_w1.TIF          1      yes         1   \n",
       "\n",
       "                             mask_id  \n",
       "1  SIMCEPImages_A01_C1_F1_s01_w1.TIF  \n",
       "2  SIMCEPImages_A01_C1_F1_s01_w2.TIF  \n",
       "3  SIMCEPImages_A01_C1_F1_s02_w1.TIF  \n",
       "4  SIMCEPImages_A01_C1_F1_s02_w2.TIF  \n",
       "5  SIMCEPImages_A01_C1_F1_s03_w1.TIF  "
      ]
     },
     "execution_count": 8,
     "metadata": {},
     "output_type": "execute_result"
    }
   ],
   "source": [
    "df_masks.head()"
   ]
  },
  {
   "cell_type": "markdown",
   "metadata": {
    "id": "iF731m1G-KY4"
   },
   "source": [
    "## Create df_test"
   ]
  },
  {
   "cell_type": "code",
   "execution_count": 9,
   "metadata": {
    "executionInfo": {
     "elapsed": 10,
     "status": "aborted",
     "timestamp": 1716057815324,
     "user": {
      "displayName": "曾若恩",
      "userId": "06852139178101415021"
     },
     "user_tz": -480
    },
    "id": "ypP5uydt-KY4"
   },
   "outputs": [
    {
     "name": "stdout",
     "output_type": "stream",
     "text": [
      "(1200, 5)\n",
      "(18000, 2)\n"
     ]
    }
   ],
   "source": [
    "\n",
    "# test_id_list and num_cells were defined in the introduction section.\n",
    "df_test = pd.DataFrame(test_id_list, columns=['mask_id'])\n",
    "\n",
    "# add a new column with the number of cells on each mask\n",
    "df_test['num_cells'] = num_cells\n",
    "\n",
    "# Reset the index.\n",
    "# This is so that we can use loc to access mask id's later.\n",
    "df_test = df_test.reset_index(drop=True)\n",
    "\n",
    "\n",
    "# Select only rows that are not part of the test set.\n",
    "# Note the use of ~ to execute 'not in'.\n",
    "df_masks = df_masks[~df_masks['mask_id'].isin(test_id_list)]\n",
    "\n",
    "print(df_masks.shape)\n",
    "print(df_test.shape)"
   ]
  },
  {
   "cell_type": "code",
   "execution_count": 10,
   "metadata": {
    "executionInfo": {
     "elapsed": 10,
     "status": "aborted",
     "timestamp": 1716057815324,
     "user": {
      "displayName": "曾若恩",
      "userId": "06852139178101415021"
     },
     "user_tz": -480
    },
    "id": "nQBnkmjx-KY5"
   },
   "outputs": [
    {
     "data": {
      "text/html": [
       "<div>\n",
       "<style scoped>\n",
       "    .dataframe tbody tr th:only-of-type {\n",
       "        vertical-align: middle;\n",
       "    }\n",
       "\n",
       "    .dataframe tbody tr th {\n",
       "        vertical-align: top;\n",
       "    }\n",
       "\n",
       "    .dataframe thead th {\n",
       "        text-align: right;\n",
       "    }\n",
       "</style>\n",
       "<table border=\"1\" class=\"dataframe\">\n",
       "  <thead>\n",
       "    <tr style=\"text-align: right;\">\n",
       "      <th></th>\n",
       "      <th>mask_id</th>\n",
       "      <th>num_cells</th>\n",
       "    </tr>\n",
       "  </thead>\n",
       "  <tbody>\n",
       "    <tr>\n",
       "      <th>0</th>\n",
       "      <td>SIMCEPImages_B01_C1_F4_s01_w1.TIF</td>\n",
       "      <td>1</td>\n",
       "    </tr>\n",
       "    <tr>\n",
       "      <th>1</th>\n",
       "      <td>SIMCEPImages_B01_C1_F4_s01_w2.TIF</td>\n",
       "      <td>1</td>\n",
       "    </tr>\n",
       "    <tr>\n",
       "      <th>2</th>\n",
       "      <td>SIMCEPImages_B01_C1_F4_s02_w1.TIF</td>\n",
       "      <td>1</td>\n",
       "    </tr>\n",
       "    <tr>\n",
       "      <th>3</th>\n",
       "      <td>SIMCEPImages_B01_C1_F4_s02_w2.TIF</td>\n",
       "      <td>1</td>\n",
       "    </tr>\n",
       "    <tr>\n",
       "      <th>4</th>\n",
       "      <td>SIMCEPImages_B01_C1_F4_s03_w1.TIF</td>\n",
       "      <td>1</td>\n",
       "    </tr>\n",
       "    <tr>\n",
       "      <th>5</th>\n",
       "      <td>SIMCEPImages_B01_C1_F4_s03_w2.TIF</td>\n",
       "      <td>1</td>\n",
       "    </tr>\n",
       "    <tr>\n",
       "      <th>6</th>\n",
       "      <td>SIMCEPImages_B01_C1_F4_s04_w1.TIF</td>\n",
       "      <td>1</td>\n",
       "    </tr>\n",
       "    <tr>\n",
       "      <th>7</th>\n",
       "      <td>SIMCEPImages_B01_C1_F4_s04_w2.TIF</td>\n",
       "      <td>1</td>\n",
       "    </tr>\n",
       "    <tr>\n",
       "      <th>8</th>\n",
       "      <td>SIMCEPImages_B01_C1_F4_s05_w1.TIF</td>\n",
       "      <td>1</td>\n",
       "    </tr>\n",
       "    <tr>\n",
       "      <th>9</th>\n",
       "      <td>SIMCEPImages_B01_C1_F4_s05_w2.TIF</td>\n",
       "      <td>1</td>\n",
       "    </tr>\n",
       "  </tbody>\n",
       "</table>\n",
       "</div>"
      ],
      "text/plain": [
       "                             mask_id  num_cells\n",
       "0  SIMCEPImages_B01_C1_F4_s01_w1.TIF          1\n",
       "1  SIMCEPImages_B01_C1_F4_s01_w2.TIF          1\n",
       "2  SIMCEPImages_B01_C1_F4_s02_w1.TIF          1\n",
       "3  SIMCEPImages_B01_C1_F4_s02_w2.TIF          1\n",
       "4  SIMCEPImages_B01_C1_F4_s03_w1.TIF          1\n",
       "5  SIMCEPImages_B01_C1_F4_s03_w2.TIF          1\n",
       "6  SIMCEPImages_B01_C1_F4_s04_w1.TIF          1\n",
       "7  SIMCEPImages_B01_C1_F4_s04_w2.TIF          1\n",
       "8  SIMCEPImages_B01_C1_F4_s05_w1.TIF          1\n",
       "9  SIMCEPImages_B01_C1_F4_s05_w2.TIF          1"
      ]
     },
     "execution_count": 10,
     "metadata": {},
     "output_type": "execute_result"
    }
   ],
   "source": [
    "df_test.head(10)"
   ]
  },
  {
   "cell_type": "markdown",
   "metadata": {
    "id": "gQcMJpR0-KY6"
   },
   "source": [
    "## Define X_train and y_train"
   ]
  },
  {
   "cell_type": "code",
   "execution_count": 11,
   "metadata": {
    "executionInfo": {
     "elapsed": 10,
     "status": "aborted",
     "timestamp": 1716057815324,
     "user": {
      "displayName": "曾若恩",
      "userId": "06852139178101415021"
     },
     "user_tz": -480
    },
    "id": "x7NCW52--KY6"
   },
   "outputs": [],
   "source": [
    "# X_train\n",
    "\n",
    "# Get lists of images and their masks.\n",
    "mask_id_list = list(df_masks['mask_id'])\n",
    "\n",
    "# Create empty arrays\n",
    "X_train = np.zeros((len(mask_id_list), IMG_HEIGHT, IMG_WIDTH, IMG_CHANNELS)) #, dtype=np.bool)\n",
    "\n",
    "\n",
    "for i, mask_id in enumerate(mask_id_list):\n",
    "\n",
    "    path_mask = './BBBC005_v1_ground_truth/BBBC005_v1_ground_truth/' + mask_id\n",
    "\n",
    "    # read the file as an array\n",
    "    cv2_image = cv2.imread(path_mask)\n",
    "    # resize the image\n",
    "    cv2_image = cv2.resize(cv2_image, (IMG_HEIGHT, IMG_WIDTH))\n",
    "    # save the image at the destination as a jpg file\n",
    "    cv2.imwrite('mask.jpg', cv2_image)\n",
    "\n",
    "    # read the image using skimage\n",
    "    mask = imread('mask.jpg')\n",
    "\n",
    "    # resize the image\n",
    "    #mask = resize(mask, (IMG_HEIGHT, IMG_WIDTH), mode='constant', preserve_range=True)\n",
    "\n",
    "    # use np.expand dims to add a channel axis so the shape becomes (IMG_HEIGHT, IMG_WIDTH, 1)\n",
    "    #mask = np.expand_dims(mask, axis=-1)\n",
    "\n",
    "    # insert the image into X_Train\n",
    "    X_train[i] = mask\n",
    "\n",
    "\n",
    "\n",
    "# y_train\n",
    "\n",
    "y_train = df_masks['num_cells'] #.astype(np.float16)\n",
    "\n"
   ]
  },
  {
   "cell_type": "code",
   "execution_count": 12,
   "metadata": {
    "executionInfo": {
     "elapsed": 11,
     "status": "aborted",
     "timestamp": 1716057815325,
     "user": {
      "displayName": "曾若恩",
      "userId": "06852139178101415021"
     },
     "user_tz": -480
    },
    "id": "dW8ihwAb-KY6"
   },
   "outputs": [
    {
     "name": "stdout",
     "output_type": "stream",
     "text": [
      "(1200, 128, 128, 3)\n",
      "(1200,)\n",
      "(18000, 128, 128, 3)\n"
     ]
    }
   ],
   "source": [
    "print(X_train.shape)\n",
    "print(y_train.shape)\n",
    "print(X_test.shape)"
   ]
  },
  {
   "cell_type": "code",
   "execution_count": 13,
   "metadata": {
    "executionInfo": {
     "elapsed": 1245,
     "status": "aborted",
     "timestamp": 1716057815326,
     "user": {
      "displayName": "曾若恩",
      "userId": "06852139178101415021"
     },
     "user_tz": -480
    },
    "id": "Cj7a7yrT-KY7"
   },
   "outputs": [
    {
     "data": {
      "text/plain": [
       "(128, 128, 3)"
      ]
     },
     "execution_count": 13,
     "metadata": {},
     "output_type": "execute_result"
    }
   ],
   "source": [
    "X_train[1, :, :, :].shape"
   ]
  },
  {
   "cell_type": "markdown",
   "metadata": {
    "id": "wYxJ97Z4-KY7"
   },
   "source": [
    "## Model Architecture"
   ]
  },
  {
   "cell_type": "code",
   "execution_count": 14,
   "metadata": {
    "_kg_hide-output": true,
    "executionInfo": {
     "elapsed": 1244,
     "status": "aborted",
     "timestamp": 1716057815327,
     "user": {
      "displayName": "曾若恩",
      "userId": "06852139178101415021"
     },
     "user_tz": -480
    },
    "id": "3fFpJm9y-KY7"
   },
   "outputs": [
    {
     "name": "stderr",
     "output_type": "stream",
     "text": [
      "C:\\Users\\riann\\anaconda3\\envs\\AI_FP\\Lib\\site-packages\\keras\\src\\layers\\convolutional\\base_conv.py:107: UserWarning: Do not pass an `input_shape`/`input_dim` argument to a layer. When using Sequential models, prefer using an `Input(shape)` object as the first layer in the model instead.\n",
      "  super().__init__(activity_regularizer=activity_regularizer, **kwargs)\n"
     ]
    },
    {
     "data": {
      "text/html": [
       "<pre style=\"white-space:pre;overflow-x:auto;line-height:normal;font-family:Menlo,'DejaVu Sans Mono',consolas,'Courier New',monospace\"><span style=\"font-weight: bold\">Model: \"sequential\"</span>\n",
       "</pre>\n"
      ],
      "text/plain": [
       "\u001b[1mModel: \"sequential\"\u001b[0m\n"
      ]
     },
     "metadata": {},
     "output_type": "display_data"
    },
    {
     "data": {
      "text/html": [
       "<pre style=\"white-space:pre;overflow-x:auto;line-height:normal;font-family:Menlo,'DejaVu Sans Mono',consolas,'Courier New',monospace\">┏━━━━━━━━━━━━━━━━━━━━━━━━━━━━━━━━━━━━━━┳━━━━━━━━━━━━━━━━━━━━━━━━━━━━━┳━━━━━━━━━━━━━━━━━┓\n",
       "┃<span style=\"font-weight: bold\"> Layer (type)                         </span>┃<span style=\"font-weight: bold\"> Output Shape                </span>┃<span style=\"font-weight: bold\">         Param # </span>┃\n",
       "┡━━━━━━━━━━━━━━━━━━━━━━━━━━━━━━━━━━━━━━╇━━━━━━━━━━━━━━━━━━━━━━━━━━━━━╇━━━━━━━━━━━━━━━━━┩\n",
       "│ conv2d (<span style=\"color: #0087ff; text-decoration-color: #0087ff\">Conv2D</span>)                      │ (<span style=\"color: #00d7ff; text-decoration-color: #00d7ff\">None</span>, <span style=\"color: #00af00; text-decoration-color: #00af00\">126</span>, <span style=\"color: #00af00; text-decoration-color: #00af00\">126</span>, <span style=\"color: #00af00; text-decoration-color: #00af00\">32</span>)        │             <span style=\"color: #00af00; text-decoration-color: #00af00\">896</span> │\n",
       "├──────────────────────────────────────┼─────────────────────────────┼─────────────────┤\n",
       "│ zero_padding2d (<span style=\"color: #0087ff; text-decoration-color: #0087ff\">ZeroPadding2D</span>)       │ (<span style=\"color: #00d7ff; text-decoration-color: #00d7ff\">None</span>, <span style=\"color: #00af00; text-decoration-color: #00af00\">206</span>, <span style=\"color: #00af00; text-decoration-color: #00af00\">206</span>, <span style=\"color: #00af00; text-decoration-color: #00af00\">32</span>)        │               <span style=\"color: #00af00; text-decoration-color: #00af00\">0</span> │\n",
       "├──────────────────────────────────────┼─────────────────────────────┼─────────────────┤\n",
       "│ conv2d_1 (<span style=\"color: #0087ff; text-decoration-color: #0087ff\">Conv2D</span>)                    │ (<span style=\"color: #00d7ff; text-decoration-color: #00d7ff\">None</span>, <span style=\"color: #00af00; text-decoration-color: #00af00\">204</span>, <span style=\"color: #00af00; text-decoration-color: #00af00\">204</span>, <span style=\"color: #00af00; text-decoration-color: #00af00\">32</span>)        │           <span style=\"color: #00af00; text-decoration-color: #00af00\">9,248</span> │\n",
       "├──────────────────────────────────────┼─────────────────────────────┼─────────────────┤\n",
       "│ conv2d_2 (<span style=\"color: #0087ff; text-decoration-color: #0087ff\">Conv2D</span>)                    │ (<span style=\"color: #00d7ff; text-decoration-color: #00d7ff\">None</span>, <span style=\"color: #00af00; text-decoration-color: #00af00\">202</span>, <span style=\"color: #00af00; text-decoration-color: #00af00\">202</span>, <span style=\"color: #00af00; text-decoration-color: #00af00\">32</span>)        │           <span style=\"color: #00af00; text-decoration-color: #00af00\">9,248</span> │\n",
       "├──────────────────────────────────────┼─────────────────────────────┼─────────────────┤\n",
       "│ max_pooling2d (<span style=\"color: #0087ff; text-decoration-color: #0087ff\">MaxPooling2D</span>)         │ (<span style=\"color: #00d7ff; text-decoration-color: #00d7ff\">None</span>, <span style=\"color: #00af00; text-decoration-color: #00af00\">101</span>, <span style=\"color: #00af00; text-decoration-color: #00af00\">101</span>, <span style=\"color: #00af00; text-decoration-color: #00af00\">32</span>)        │               <span style=\"color: #00af00; text-decoration-color: #00af00\">0</span> │\n",
       "├──────────────────────────────────────┼─────────────────────────────┼─────────────────┤\n",
       "│ dropout (<span style=\"color: #0087ff; text-decoration-color: #0087ff\">Dropout</span>)                    │ (<span style=\"color: #00d7ff; text-decoration-color: #00d7ff\">None</span>, <span style=\"color: #00af00; text-decoration-color: #00af00\">101</span>, <span style=\"color: #00af00; text-decoration-color: #00af00\">101</span>, <span style=\"color: #00af00; text-decoration-color: #00af00\">32</span>)        │               <span style=\"color: #00af00; text-decoration-color: #00af00\">0</span> │\n",
       "├──────────────────────────────────────┼─────────────────────────────┼─────────────────┤\n",
       "│ conv2d_3 (<span style=\"color: #0087ff; text-decoration-color: #0087ff\">Conv2D</span>)                    │ (<span style=\"color: #00d7ff; text-decoration-color: #00d7ff\">None</span>, <span style=\"color: #00af00; text-decoration-color: #00af00\">99</span>, <span style=\"color: #00af00; text-decoration-color: #00af00\">99</span>, <span style=\"color: #00af00; text-decoration-color: #00af00\">64</span>)          │          <span style=\"color: #00af00; text-decoration-color: #00af00\">18,496</span> │\n",
       "├──────────────────────────────────────┼─────────────────────────────┼─────────────────┤\n",
       "│ conv2d_4 (<span style=\"color: #0087ff; text-decoration-color: #0087ff\">Conv2D</span>)                    │ (<span style=\"color: #00d7ff; text-decoration-color: #00d7ff\">None</span>, <span style=\"color: #00af00; text-decoration-color: #00af00\">97</span>, <span style=\"color: #00af00; text-decoration-color: #00af00\">97</span>, <span style=\"color: #00af00; text-decoration-color: #00af00\">64</span>)          │          <span style=\"color: #00af00; text-decoration-color: #00af00\">36,928</span> │\n",
       "├──────────────────────────────────────┼─────────────────────────────┼─────────────────┤\n",
       "│ conv2d_5 (<span style=\"color: #0087ff; text-decoration-color: #0087ff\">Conv2D</span>)                    │ (<span style=\"color: #00d7ff; text-decoration-color: #00d7ff\">None</span>, <span style=\"color: #00af00; text-decoration-color: #00af00\">95</span>, <span style=\"color: #00af00; text-decoration-color: #00af00\">95</span>, <span style=\"color: #00af00; text-decoration-color: #00af00\">64</span>)          │          <span style=\"color: #00af00; text-decoration-color: #00af00\">36,928</span> │\n",
       "├──────────────────────────────────────┼─────────────────────────────┼─────────────────┤\n",
       "│ max_pooling2d_1 (<span style=\"color: #0087ff; text-decoration-color: #0087ff\">MaxPooling2D</span>)       │ (<span style=\"color: #00d7ff; text-decoration-color: #00d7ff\">None</span>, <span style=\"color: #00af00; text-decoration-color: #00af00\">47</span>, <span style=\"color: #00af00; text-decoration-color: #00af00\">47</span>, <span style=\"color: #00af00; text-decoration-color: #00af00\">64</span>)          │               <span style=\"color: #00af00; text-decoration-color: #00af00\">0</span> │\n",
       "├──────────────────────────────────────┼─────────────────────────────┼─────────────────┤\n",
       "│ dropout_1 (<span style=\"color: #0087ff; text-decoration-color: #0087ff\">Dropout</span>)                  │ (<span style=\"color: #00d7ff; text-decoration-color: #00d7ff\">None</span>, <span style=\"color: #00af00; text-decoration-color: #00af00\">47</span>, <span style=\"color: #00af00; text-decoration-color: #00af00\">47</span>, <span style=\"color: #00af00; text-decoration-color: #00af00\">64</span>)          │               <span style=\"color: #00af00; text-decoration-color: #00af00\">0</span> │\n",
       "├──────────────────────────────────────┼─────────────────────────────┼─────────────────┤\n",
       "│ conv2d_6 (<span style=\"color: #0087ff; text-decoration-color: #0087ff\">Conv2D</span>)                    │ (<span style=\"color: #00d7ff; text-decoration-color: #00d7ff\">None</span>, <span style=\"color: #00af00; text-decoration-color: #00af00\">45</span>, <span style=\"color: #00af00; text-decoration-color: #00af00\">45</span>, <span style=\"color: #00af00; text-decoration-color: #00af00\">128</span>)         │          <span style=\"color: #00af00; text-decoration-color: #00af00\">73,856</span> │\n",
       "├──────────────────────────────────────┼─────────────────────────────┼─────────────────┤\n",
       "│ conv2d_7 (<span style=\"color: #0087ff; text-decoration-color: #0087ff\">Conv2D</span>)                    │ (<span style=\"color: #00d7ff; text-decoration-color: #00d7ff\">None</span>, <span style=\"color: #00af00; text-decoration-color: #00af00\">43</span>, <span style=\"color: #00af00; text-decoration-color: #00af00\">43</span>, <span style=\"color: #00af00; text-decoration-color: #00af00\">128</span>)         │         <span style=\"color: #00af00; text-decoration-color: #00af00\">147,584</span> │\n",
       "├──────────────────────────────────────┼─────────────────────────────┼─────────────────┤\n",
       "│ conv2d_8 (<span style=\"color: #0087ff; text-decoration-color: #0087ff\">Conv2D</span>)                    │ (<span style=\"color: #00d7ff; text-decoration-color: #00d7ff\">None</span>, <span style=\"color: #00af00; text-decoration-color: #00af00\">41</span>, <span style=\"color: #00af00; text-decoration-color: #00af00\">41</span>, <span style=\"color: #00af00; text-decoration-color: #00af00\">128</span>)         │         <span style=\"color: #00af00; text-decoration-color: #00af00\">147,584</span> │\n",
       "├──────────────────────────────────────┼─────────────────────────────┼─────────────────┤\n",
       "│ max_pooling2d_2 (<span style=\"color: #0087ff; text-decoration-color: #0087ff\">MaxPooling2D</span>)       │ (<span style=\"color: #00d7ff; text-decoration-color: #00d7ff\">None</span>, <span style=\"color: #00af00; text-decoration-color: #00af00\">20</span>, <span style=\"color: #00af00; text-decoration-color: #00af00\">20</span>, <span style=\"color: #00af00; text-decoration-color: #00af00\">128</span>)         │               <span style=\"color: #00af00; text-decoration-color: #00af00\">0</span> │\n",
       "├──────────────────────────────────────┼─────────────────────────────┼─────────────────┤\n",
       "│ dropout_2 (<span style=\"color: #0087ff; text-decoration-color: #0087ff\">Dropout</span>)                  │ (<span style=\"color: #00d7ff; text-decoration-color: #00d7ff\">None</span>, <span style=\"color: #00af00; text-decoration-color: #00af00\">20</span>, <span style=\"color: #00af00; text-decoration-color: #00af00\">20</span>, <span style=\"color: #00af00; text-decoration-color: #00af00\">128</span>)         │               <span style=\"color: #00af00; text-decoration-color: #00af00\">0</span> │\n",
       "├──────────────────────────────────────┼─────────────────────────────┼─────────────────┤\n",
       "│ conv2d_9 (<span style=\"color: #0087ff; text-decoration-color: #0087ff\">Conv2D</span>)                    │ (<span style=\"color: #00d7ff; text-decoration-color: #00d7ff\">None</span>, <span style=\"color: #00af00; text-decoration-color: #00af00\">18</span>, <span style=\"color: #00af00; text-decoration-color: #00af00\">18</span>, <span style=\"color: #00af00; text-decoration-color: #00af00\">128</span>)         │         <span style=\"color: #00af00; text-decoration-color: #00af00\">147,584</span> │\n",
       "├──────────────────────────────────────┼─────────────────────────────┼─────────────────┤\n",
       "│ conv2d_10 (<span style=\"color: #0087ff; text-decoration-color: #0087ff\">Conv2D</span>)                   │ (<span style=\"color: #00d7ff; text-decoration-color: #00d7ff\">None</span>, <span style=\"color: #00af00; text-decoration-color: #00af00\">16</span>, <span style=\"color: #00af00; text-decoration-color: #00af00\">16</span>, <span style=\"color: #00af00; text-decoration-color: #00af00\">128</span>)         │         <span style=\"color: #00af00; text-decoration-color: #00af00\">147,584</span> │\n",
       "├──────────────────────────────────────┼─────────────────────────────┼─────────────────┤\n",
       "│ conv2d_11 (<span style=\"color: #0087ff; text-decoration-color: #0087ff\">Conv2D</span>)                   │ (<span style=\"color: #00d7ff; text-decoration-color: #00d7ff\">None</span>, <span style=\"color: #00af00; text-decoration-color: #00af00\">14</span>, <span style=\"color: #00af00; text-decoration-color: #00af00\">14</span>, <span style=\"color: #00af00; text-decoration-color: #00af00\">128</span>)         │         <span style=\"color: #00af00; text-decoration-color: #00af00\">147,584</span> │\n",
       "├──────────────────────────────────────┼─────────────────────────────┼─────────────────┤\n",
       "│ max_pooling2d_3 (<span style=\"color: #0087ff; text-decoration-color: #0087ff\">MaxPooling2D</span>)       │ (<span style=\"color: #00d7ff; text-decoration-color: #00d7ff\">None</span>, <span style=\"color: #00af00; text-decoration-color: #00af00\">7</span>, <span style=\"color: #00af00; text-decoration-color: #00af00\">7</span>, <span style=\"color: #00af00; text-decoration-color: #00af00\">128</span>)           │               <span style=\"color: #00af00; text-decoration-color: #00af00\">0</span> │\n",
       "├──────────────────────────────────────┼─────────────────────────────┼─────────────────┤\n",
       "│ dropout_3 (<span style=\"color: #0087ff; text-decoration-color: #0087ff\">Dropout</span>)                  │ (<span style=\"color: #00d7ff; text-decoration-color: #00d7ff\">None</span>, <span style=\"color: #00af00; text-decoration-color: #00af00\">7</span>, <span style=\"color: #00af00; text-decoration-color: #00af00\">7</span>, <span style=\"color: #00af00; text-decoration-color: #00af00\">128</span>)           │               <span style=\"color: #00af00; text-decoration-color: #00af00\">0</span> │\n",
       "├──────────────────────────────────────┼─────────────────────────────┼─────────────────┤\n",
       "│ flatten (<span style=\"color: #0087ff; text-decoration-color: #0087ff\">Flatten</span>)                    │ (<span style=\"color: #00d7ff; text-decoration-color: #00d7ff\">None</span>, <span style=\"color: #00af00; text-decoration-color: #00af00\">6272</span>)                │               <span style=\"color: #00af00; text-decoration-color: #00af00\">0</span> │\n",
       "├──────────────────────────────────────┼─────────────────────────────┼─────────────────┤\n",
       "│ dense (<span style=\"color: #0087ff; text-decoration-color: #0087ff\">Dense</span>)                        │ (<span style=\"color: #00d7ff; text-decoration-color: #00d7ff\">None</span>, <span style=\"color: #00af00; text-decoration-color: #00af00\">1024</span>)                │       <span style=\"color: #00af00; text-decoration-color: #00af00\">6,423,552</span> │\n",
       "├──────────────────────────────────────┼─────────────────────────────┼─────────────────┤\n",
       "│ leaky_re_lu (<span style=\"color: #0087ff; text-decoration-color: #0087ff\">LeakyReLU</span>)              │ (<span style=\"color: #00d7ff; text-decoration-color: #00d7ff\">None</span>, <span style=\"color: #00af00; text-decoration-color: #00af00\">1024</span>)                │               <span style=\"color: #00af00; text-decoration-color: #00af00\">0</span> │\n",
       "├──────────────────────────────────────┼─────────────────────────────┼─────────────────┤\n",
       "│ batch_normalization                  │ (<span style=\"color: #00d7ff; text-decoration-color: #00d7ff\">None</span>, <span style=\"color: #00af00; text-decoration-color: #00af00\">1024</span>)                │           <span style=\"color: #00af00; text-decoration-color: #00af00\">4,096</span> │\n",
       "│ (<span style=\"color: #0087ff; text-decoration-color: #0087ff\">BatchNormalization</span>)                 │                             │                 │\n",
       "├──────────────────────────────────────┼─────────────────────────────┼─────────────────┤\n",
       "│ dense_1 (<span style=\"color: #0087ff; text-decoration-color: #0087ff\">Dense</span>)                      │ (<span style=\"color: #00d7ff; text-decoration-color: #00d7ff\">None</span>, <span style=\"color: #00af00; text-decoration-color: #00af00\">512</span>)                 │         <span style=\"color: #00af00; text-decoration-color: #00af00\">524,800</span> │\n",
       "├──────────────────────────────────────┼─────────────────────────────┼─────────────────┤\n",
       "│ leaky_re_lu_1 (<span style=\"color: #0087ff; text-decoration-color: #0087ff\">LeakyReLU</span>)            │ (<span style=\"color: #00d7ff; text-decoration-color: #00d7ff\">None</span>, <span style=\"color: #00af00; text-decoration-color: #00af00\">512</span>)                 │               <span style=\"color: #00af00; text-decoration-color: #00af00\">0</span> │\n",
       "├──────────────────────────────────────┼─────────────────────────────┼─────────────────┤\n",
       "│ batch_normalization_1                │ (<span style=\"color: #00d7ff; text-decoration-color: #00d7ff\">None</span>, <span style=\"color: #00af00; text-decoration-color: #00af00\">512</span>)                 │           <span style=\"color: #00af00; text-decoration-color: #00af00\">2,048</span> │\n",
       "│ (<span style=\"color: #0087ff; text-decoration-color: #0087ff\">BatchNormalization</span>)                 │                             │                 │\n",
       "├──────────────────────────────────────┼─────────────────────────────┼─────────────────┤\n",
       "│ dense_2 (<span style=\"color: #0087ff; text-decoration-color: #0087ff\">Dense</span>)                      │ (<span style=\"color: #00d7ff; text-decoration-color: #00d7ff\">None</span>, <span style=\"color: #00af00; text-decoration-color: #00af00\">1</span>)                   │             <span style=\"color: #00af00; text-decoration-color: #00af00\">513</span> │\n",
       "└──────────────────────────────────────┴─────────────────────────────┴─────────────────┘\n",
       "</pre>\n"
      ],
      "text/plain": [
       "┏━━━━━━━━━━━━━━━━━━━━━━━━━━━━━━━━━━━━━━┳━━━━━━━━━━━━━━━━━━━━━━━━━━━━━┳━━━━━━━━━━━━━━━━━┓\n",
       "┃\u001b[1m \u001b[0m\u001b[1mLayer (type)                        \u001b[0m\u001b[1m \u001b[0m┃\u001b[1m \u001b[0m\u001b[1mOutput Shape               \u001b[0m\u001b[1m \u001b[0m┃\u001b[1m \u001b[0m\u001b[1m        Param #\u001b[0m\u001b[1m \u001b[0m┃\n",
       "┡━━━━━━━━━━━━━━━━━━━━━━━━━━━━━━━━━━━━━━╇━━━━━━━━━━━━━━━━━━━━━━━━━━━━━╇━━━━━━━━━━━━━━━━━┩\n",
       "│ conv2d (\u001b[38;5;33mConv2D\u001b[0m)                      │ (\u001b[38;5;45mNone\u001b[0m, \u001b[38;5;34m126\u001b[0m, \u001b[38;5;34m126\u001b[0m, \u001b[38;5;34m32\u001b[0m)        │             \u001b[38;5;34m896\u001b[0m │\n",
       "├──────────────────────────────────────┼─────────────────────────────┼─────────────────┤\n",
       "│ zero_padding2d (\u001b[38;5;33mZeroPadding2D\u001b[0m)       │ (\u001b[38;5;45mNone\u001b[0m, \u001b[38;5;34m206\u001b[0m, \u001b[38;5;34m206\u001b[0m, \u001b[38;5;34m32\u001b[0m)        │               \u001b[38;5;34m0\u001b[0m │\n",
       "├──────────────────────────────────────┼─────────────────────────────┼─────────────────┤\n",
       "│ conv2d_1 (\u001b[38;5;33mConv2D\u001b[0m)                    │ (\u001b[38;5;45mNone\u001b[0m, \u001b[38;5;34m204\u001b[0m, \u001b[38;5;34m204\u001b[0m, \u001b[38;5;34m32\u001b[0m)        │           \u001b[38;5;34m9,248\u001b[0m │\n",
       "├──────────────────────────────────────┼─────────────────────────────┼─────────────────┤\n",
       "│ conv2d_2 (\u001b[38;5;33mConv2D\u001b[0m)                    │ (\u001b[38;5;45mNone\u001b[0m, \u001b[38;5;34m202\u001b[0m, \u001b[38;5;34m202\u001b[0m, \u001b[38;5;34m32\u001b[0m)        │           \u001b[38;5;34m9,248\u001b[0m │\n",
       "├──────────────────────────────────────┼─────────────────────────────┼─────────────────┤\n",
       "│ max_pooling2d (\u001b[38;5;33mMaxPooling2D\u001b[0m)         │ (\u001b[38;5;45mNone\u001b[0m, \u001b[38;5;34m101\u001b[0m, \u001b[38;5;34m101\u001b[0m, \u001b[38;5;34m32\u001b[0m)        │               \u001b[38;5;34m0\u001b[0m │\n",
       "├──────────────────────────────────────┼─────────────────────────────┼─────────────────┤\n",
       "│ dropout (\u001b[38;5;33mDropout\u001b[0m)                    │ (\u001b[38;5;45mNone\u001b[0m, \u001b[38;5;34m101\u001b[0m, \u001b[38;5;34m101\u001b[0m, \u001b[38;5;34m32\u001b[0m)        │               \u001b[38;5;34m0\u001b[0m │\n",
       "├──────────────────────────────────────┼─────────────────────────────┼─────────────────┤\n",
       "│ conv2d_3 (\u001b[38;5;33mConv2D\u001b[0m)                    │ (\u001b[38;5;45mNone\u001b[0m, \u001b[38;5;34m99\u001b[0m, \u001b[38;5;34m99\u001b[0m, \u001b[38;5;34m64\u001b[0m)          │          \u001b[38;5;34m18,496\u001b[0m │\n",
       "├──────────────────────────────────────┼─────────────────────────────┼─────────────────┤\n",
       "│ conv2d_4 (\u001b[38;5;33mConv2D\u001b[0m)                    │ (\u001b[38;5;45mNone\u001b[0m, \u001b[38;5;34m97\u001b[0m, \u001b[38;5;34m97\u001b[0m, \u001b[38;5;34m64\u001b[0m)          │          \u001b[38;5;34m36,928\u001b[0m │\n",
       "├──────────────────────────────────────┼─────────────────────────────┼─────────────────┤\n",
       "│ conv2d_5 (\u001b[38;5;33mConv2D\u001b[0m)                    │ (\u001b[38;5;45mNone\u001b[0m, \u001b[38;5;34m95\u001b[0m, \u001b[38;5;34m95\u001b[0m, \u001b[38;5;34m64\u001b[0m)          │          \u001b[38;5;34m36,928\u001b[0m │\n",
       "├──────────────────────────────────────┼─────────────────────────────┼─────────────────┤\n",
       "│ max_pooling2d_1 (\u001b[38;5;33mMaxPooling2D\u001b[0m)       │ (\u001b[38;5;45mNone\u001b[0m, \u001b[38;5;34m47\u001b[0m, \u001b[38;5;34m47\u001b[0m, \u001b[38;5;34m64\u001b[0m)          │               \u001b[38;5;34m0\u001b[0m │\n",
       "├──────────────────────────────────────┼─────────────────────────────┼─────────────────┤\n",
       "│ dropout_1 (\u001b[38;5;33mDropout\u001b[0m)                  │ (\u001b[38;5;45mNone\u001b[0m, \u001b[38;5;34m47\u001b[0m, \u001b[38;5;34m47\u001b[0m, \u001b[38;5;34m64\u001b[0m)          │               \u001b[38;5;34m0\u001b[0m │\n",
       "├──────────────────────────────────────┼─────────────────────────────┼─────────────────┤\n",
       "│ conv2d_6 (\u001b[38;5;33mConv2D\u001b[0m)                    │ (\u001b[38;5;45mNone\u001b[0m, \u001b[38;5;34m45\u001b[0m, \u001b[38;5;34m45\u001b[0m, \u001b[38;5;34m128\u001b[0m)         │          \u001b[38;5;34m73,856\u001b[0m │\n",
       "├──────────────────────────────────────┼─────────────────────────────┼─────────────────┤\n",
       "│ conv2d_7 (\u001b[38;5;33mConv2D\u001b[0m)                    │ (\u001b[38;5;45mNone\u001b[0m, \u001b[38;5;34m43\u001b[0m, \u001b[38;5;34m43\u001b[0m, \u001b[38;5;34m128\u001b[0m)         │         \u001b[38;5;34m147,584\u001b[0m │\n",
       "├──────────────────────────────────────┼─────────────────────────────┼─────────────────┤\n",
       "│ conv2d_8 (\u001b[38;5;33mConv2D\u001b[0m)                    │ (\u001b[38;5;45mNone\u001b[0m, \u001b[38;5;34m41\u001b[0m, \u001b[38;5;34m41\u001b[0m, \u001b[38;5;34m128\u001b[0m)         │         \u001b[38;5;34m147,584\u001b[0m │\n",
       "├──────────────────────────────────────┼─────────────────────────────┼─────────────────┤\n",
       "│ max_pooling2d_2 (\u001b[38;5;33mMaxPooling2D\u001b[0m)       │ (\u001b[38;5;45mNone\u001b[0m, \u001b[38;5;34m20\u001b[0m, \u001b[38;5;34m20\u001b[0m, \u001b[38;5;34m128\u001b[0m)         │               \u001b[38;5;34m0\u001b[0m │\n",
       "├──────────────────────────────────────┼─────────────────────────────┼─────────────────┤\n",
       "│ dropout_2 (\u001b[38;5;33mDropout\u001b[0m)                  │ (\u001b[38;5;45mNone\u001b[0m, \u001b[38;5;34m20\u001b[0m, \u001b[38;5;34m20\u001b[0m, \u001b[38;5;34m128\u001b[0m)         │               \u001b[38;5;34m0\u001b[0m │\n",
       "├──────────────────────────────────────┼─────────────────────────────┼─────────────────┤\n",
       "│ conv2d_9 (\u001b[38;5;33mConv2D\u001b[0m)                    │ (\u001b[38;5;45mNone\u001b[0m, \u001b[38;5;34m18\u001b[0m, \u001b[38;5;34m18\u001b[0m, \u001b[38;5;34m128\u001b[0m)         │         \u001b[38;5;34m147,584\u001b[0m │\n",
       "├──────────────────────────────────────┼─────────────────────────────┼─────────────────┤\n",
       "│ conv2d_10 (\u001b[38;5;33mConv2D\u001b[0m)                   │ (\u001b[38;5;45mNone\u001b[0m, \u001b[38;5;34m16\u001b[0m, \u001b[38;5;34m16\u001b[0m, \u001b[38;5;34m128\u001b[0m)         │         \u001b[38;5;34m147,584\u001b[0m │\n",
       "├──────────────────────────────────────┼─────────────────────────────┼─────────────────┤\n",
       "│ conv2d_11 (\u001b[38;5;33mConv2D\u001b[0m)                   │ (\u001b[38;5;45mNone\u001b[0m, \u001b[38;5;34m14\u001b[0m, \u001b[38;5;34m14\u001b[0m, \u001b[38;5;34m128\u001b[0m)         │         \u001b[38;5;34m147,584\u001b[0m │\n",
       "├──────────────────────────────────────┼─────────────────────────────┼─────────────────┤\n",
       "│ max_pooling2d_3 (\u001b[38;5;33mMaxPooling2D\u001b[0m)       │ (\u001b[38;5;45mNone\u001b[0m, \u001b[38;5;34m7\u001b[0m, \u001b[38;5;34m7\u001b[0m, \u001b[38;5;34m128\u001b[0m)           │               \u001b[38;5;34m0\u001b[0m │\n",
       "├──────────────────────────────────────┼─────────────────────────────┼─────────────────┤\n",
       "│ dropout_3 (\u001b[38;5;33mDropout\u001b[0m)                  │ (\u001b[38;5;45mNone\u001b[0m, \u001b[38;5;34m7\u001b[0m, \u001b[38;5;34m7\u001b[0m, \u001b[38;5;34m128\u001b[0m)           │               \u001b[38;5;34m0\u001b[0m │\n",
       "├──────────────────────────────────────┼─────────────────────────────┼─────────────────┤\n",
       "│ flatten (\u001b[38;5;33mFlatten\u001b[0m)                    │ (\u001b[38;5;45mNone\u001b[0m, \u001b[38;5;34m6272\u001b[0m)                │               \u001b[38;5;34m0\u001b[0m │\n",
       "├──────────────────────────────────────┼─────────────────────────────┼─────────────────┤\n",
       "│ dense (\u001b[38;5;33mDense\u001b[0m)                        │ (\u001b[38;5;45mNone\u001b[0m, \u001b[38;5;34m1024\u001b[0m)                │       \u001b[38;5;34m6,423,552\u001b[0m │\n",
       "├──────────────────────────────────────┼─────────────────────────────┼─────────────────┤\n",
       "│ leaky_re_lu (\u001b[38;5;33mLeakyReLU\u001b[0m)              │ (\u001b[38;5;45mNone\u001b[0m, \u001b[38;5;34m1024\u001b[0m)                │               \u001b[38;5;34m0\u001b[0m │\n",
       "├──────────────────────────────────────┼─────────────────────────────┼─────────────────┤\n",
       "│ batch_normalization                  │ (\u001b[38;5;45mNone\u001b[0m, \u001b[38;5;34m1024\u001b[0m)                │           \u001b[38;5;34m4,096\u001b[0m │\n",
       "│ (\u001b[38;5;33mBatchNormalization\u001b[0m)                 │                             │                 │\n",
       "├──────────────────────────────────────┼─────────────────────────────┼─────────────────┤\n",
       "│ dense_1 (\u001b[38;5;33mDense\u001b[0m)                      │ (\u001b[38;5;45mNone\u001b[0m, \u001b[38;5;34m512\u001b[0m)                 │         \u001b[38;5;34m524,800\u001b[0m │\n",
       "├──────────────────────────────────────┼─────────────────────────────┼─────────────────┤\n",
       "│ leaky_re_lu_1 (\u001b[38;5;33mLeakyReLU\u001b[0m)            │ (\u001b[38;5;45mNone\u001b[0m, \u001b[38;5;34m512\u001b[0m)                 │               \u001b[38;5;34m0\u001b[0m │\n",
       "├──────────────────────────────────────┼─────────────────────────────┼─────────────────┤\n",
       "│ batch_normalization_1                │ (\u001b[38;5;45mNone\u001b[0m, \u001b[38;5;34m512\u001b[0m)                 │           \u001b[38;5;34m2,048\u001b[0m │\n",
       "│ (\u001b[38;5;33mBatchNormalization\u001b[0m)                 │                             │                 │\n",
       "├──────────────────────────────────────┼─────────────────────────────┼─────────────────┤\n",
       "│ dense_2 (\u001b[38;5;33mDense\u001b[0m)                      │ (\u001b[38;5;45mNone\u001b[0m, \u001b[38;5;34m1\u001b[0m)                   │             \u001b[38;5;34m513\u001b[0m │\n",
       "└──────────────────────────────────────┴─────────────────────────────┴─────────────────┘\n"
      ]
     },
     "metadata": {},
     "output_type": "display_data"
    },
    {
     "data": {
      "text/html": [
       "<pre style=\"white-space:pre;overflow-x:auto;line-height:normal;font-family:Menlo,'DejaVu Sans Mono',consolas,'Courier New',monospace\"><span style=\"font-weight: bold\"> Total params: </span><span style=\"color: #00af00; text-decoration-color: #00af00\">7,878,529</span> (30.05 MB)\n",
       "</pre>\n"
      ],
      "text/plain": [
       "\u001b[1m Total params: \u001b[0m\u001b[38;5;34m7,878,529\u001b[0m (30.05 MB)\n"
      ]
     },
     "metadata": {},
     "output_type": "display_data"
    },
    {
     "data": {
      "text/html": [
       "<pre style=\"white-space:pre;overflow-x:auto;line-height:normal;font-family:Menlo,'DejaVu Sans Mono',consolas,'Courier New',monospace\"><span style=\"font-weight: bold\"> Trainable params: </span><span style=\"color: #00af00; text-decoration-color: #00af00\">7,875,457</span> (30.04 MB)\n",
       "</pre>\n"
      ],
      "text/plain": [
       "\u001b[1m Trainable params: \u001b[0m\u001b[38;5;34m7,875,457\u001b[0m (30.04 MB)\n"
      ]
     },
     "metadata": {},
     "output_type": "display_data"
    },
    {
     "data": {
      "text/html": [
       "<pre style=\"white-space:pre;overflow-x:auto;line-height:normal;font-family:Menlo,'DejaVu Sans Mono',consolas,'Courier New',monospace\"><span style=\"font-weight: bold\"> Non-trainable params: </span><span style=\"color: #00af00; text-decoration-color: #00af00\">3,072</span> (12.00 KB)\n",
       "</pre>\n"
      ],
      "text/plain": [
       "\u001b[1m Non-trainable params: \u001b[0m\u001b[38;5;34m3,072\u001b[0m (12.00 KB)\n"
      ]
     },
     "metadata": {},
     "output_type": "display_data"
    }
   ],
   "source": [
    "kernel_size = (3,3)\n",
    "pool_size= (2,2)\n",
    "first_filters = 32\n",
    "second_filters = 64\n",
    "third_filters = 128\n",
    "\n",
    "dropout_conv = 0.3\n",
    "dropout_dense = 0.3\n",
    "\n",
    "\n",
    "model = Sequential()\n",
    "\n",
    "# Input layer for rgb image. For grayscale image use the same channel 3 times\n",
    "# to maintain the shape that the model requires.\n",
    "model.add(Conv2D(first_filters, kernel_size, activation = 'relu',\n",
    "                 input_shape = (IMG_HEIGHT, IMG_WIDTH, IMG_CHANNELS)))\n",
    "\n",
    "model.add(ZeroPadding2D(padding=(PADDING, PADDING), data_format=None))\n",
    "\n",
    "model.add(Conv2D(first_filters, kernel_size, activation = 'relu'))\n",
    "model.add(Conv2D(first_filters, kernel_size, activation = 'relu'))\n",
    "model.add(MaxPooling2D(pool_size = pool_size))\n",
    "model.add(Dropout(dropout_conv))\n",
    "\n",
    "model.add(Conv2D(second_filters, kernel_size, activation ='relu'))\n",
    "model.add(Conv2D(second_filters, kernel_size, activation ='relu'))\n",
    "model.add(Conv2D(second_filters, kernel_size, activation ='relu'))\n",
    "model.add(MaxPooling2D(pool_size = pool_size))\n",
    "model.add(Dropout(dropout_conv))\n",
    "\n",
    "model.add(Conv2D(third_filters, kernel_size, activation ='relu'))\n",
    "model.add(Conv2D(third_filters, kernel_size, activation ='relu'))\n",
    "model.add(Conv2D(third_filters, kernel_size, activation ='relu'))\n",
    "model.add(MaxPooling2D(pool_size = pool_size))\n",
    "model.add(Dropout(dropout_conv))\n",
    "\n",
    "model.add(Conv2D(third_filters, kernel_size, activation ='relu'))\n",
    "model.add(Conv2D(third_filters, kernel_size, activation ='relu'))\n",
    "model.add(Conv2D(third_filters, kernel_size, activation ='relu'))\n",
    "model.add(MaxPooling2D(pool_size = pool_size))\n",
    "model.add(Dropout(dropout_conv))\n",
    "\n",
    "model.add(Flatten())\n",
    "\n",
    "model.add(Dense(1024))\n",
    "model.add(LeakyReLU())\n",
    "model.add(BatchNormalization())\n",
    "\n",
    "model.add(Dense(512))\n",
    "model.add(LeakyReLU())\n",
    "model.add(BatchNormalization())\n",
    "\n",
    "model.add(Dense(1, activation='relu')) # set activation='relu' to keep all values positive\n",
    "\n",
    "model.summary()"
   ]
  },
  {
   "cell_type": "markdown",
   "metadata": {
    "id": "XciYXo8q-KY8"
   },
   "source": [
    "## Train the Model"
   ]
  },
  {
   "cell_type": "code",
   "execution_count": 15,
   "metadata": {
    "_kg_hide-input": false,
    "_kg_hide-output": true,
    "executionInfo": {
     "elapsed": 1242,
     "status": "aborted",
     "timestamp": 1716057815327,
     "user": {
      "displayName": "曾若恩",
      "userId": "06852139178101415021"
     },
     "user_tz": -480
    },
    "id": "8d94Gp_T-KY8",
    "scrolled": true
   },
   "outputs": [
    {
     "name": "stdout",
     "output_type": "stream",
     "text": [
      "Epoch 1/100\n",
      "\u001b[1m68/68\u001b[0m \u001b[32m━━━━━━━━━━━━━━━━━━━━\u001b[0m\u001b[37m\u001b[0m \u001b[1m0s\u001b[0m 2s/step - loss: 1439.1989 - mean_squared_error: 1439.1989\n",
      "Epoch 1: val_mean_squared_error improved from inf to 1173708.37500, saving model to model.keras\n",
      "\u001b[1m68/68\u001b[0m \u001b[32m━━━━━━━━━━━━━━━━━━━━\u001b[0m\u001b[37m\u001b[0m \u001b[1m135s\u001b[0m 2s/step - loss: 1432.9568 - mean_squared_error: 1432.9568 - val_loss: 1173708.3750 - val_mean_squared_error: 1173708.3750\n",
      "Epoch 2/100\n",
      "\u001b[1m68/68\u001b[0m \u001b[32m━━━━━━━━━━━━━━━━━━━━\u001b[0m\u001b[37m\u001b[0m \u001b[1m0s\u001b[0m 2s/step - loss: 505.2079 - mean_squared_error: 505.2079\n",
      "Epoch 2: val_mean_squared_error did not improve from 1173708.37500\n",
      "\u001b[1m68/68\u001b[0m \u001b[32m━━━━━━━━━━━━━━━━━━━━\u001b[0m\u001b[37m\u001b[0m \u001b[1m132s\u001b[0m 2s/step - loss: 504.5757 - mean_squared_error: 504.5757 - val_loss: 2528300.2500 - val_mean_squared_error: 2528300.2500\n",
      "Epoch 3/100\n",
      "\u001b[1m68/68\u001b[0m \u001b[32m━━━━━━━━━━━━━━━━━━━━\u001b[0m\u001b[37m\u001b[0m \u001b[1m0s\u001b[0m 2s/step - loss: 402.6716 - mean_squared_error: 402.6716\n",
      "Epoch 3: val_mean_squared_error improved from 1173708.37500 to 423.72696, saving model to model.keras\n",
      "\u001b[1m68/68\u001b[0m \u001b[32m━━━━━━━━━━━━━━━━━━━━\u001b[0m\u001b[37m\u001b[0m \u001b[1m134s\u001b[0m 2s/step - loss: 402.1564 - mean_squared_error: 402.1564 - val_loss: 423.7270 - val_mean_squared_error: 423.7270\n",
      "Epoch 4/100\n",
      "\u001b[1m68/68\u001b[0m \u001b[32m━━━━━━━━━━━━━━━━━━━━\u001b[0m\u001b[37m\u001b[0m \u001b[1m0s\u001b[0m 2s/step - loss: 326.4250 - mean_squared_error: 326.4250\n",
      "Epoch 4: val_mean_squared_error did not improve from 423.72696\n",
      "\u001b[1m68/68\u001b[0m \u001b[32m━━━━━━━━━━━━━━━━━━━━\u001b[0m\u001b[37m\u001b[0m \u001b[1m132s\u001b[0m 2s/step - loss: 326.1163 - mean_squared_error: 326.1163 - val_loss: 26024.4805 - val_mean_squared_error: 26024.4805\n",
      "Epoch 5/100\n",
      "\u001b[1m68/68\u001b[0m \u001b[32m━━━━━━━━━━━━━━━━━━━━\u001b[0m\u001b[37m\u001b[0m \u001b[1m0s\u001b[0m 2s/step - loss: 289.9474 - mean_squared_error: 289.9474\n",
      "Epoch 5: val_mean_squared_error did not improve from 423.72696\n",
      "\u001b[1m68/68\u001b[0m \u001b[32m━━━━━━━━━━━━━━━━━━━━\u001b[0m\u001b[37m\u001b[0m \u001b[1m132s\u001b[0m 2s/step - loss: 289.6654 - mean_squared_error: 289.6654 - val_loss: 1706.1763 - val_mean_squared_error: 1706.1763\n",
      "Epoch 6/100\n",
      "\u001b[1m68/68\u001b[0m \u001b[32m━━━━━━━━━━━━━━━━━━━━\u001b[0m\u001b[37m\u001b[0m \u001b[1m0s\u001b[0m 2s/step - loss: 252.8057 - mean_squared_error: 252.8057\n",
      "Epoch 6: val_mean_squared_error did not improve from 423.72696\n",
      "\u001b[1m68/68\u001b[0m \u001b[32m━━━━━━━━━━━━━━━━━━━━\u001b[0m\u001b[37m\u001b[0m \u001b[1m131s\u001b[0m 2s/step - loss: 252.5579 - mean_squared_error: 252.5579 - val_loss: 1566.9989 - val_mean_squared_error: 1566.9989\n",
      "Epoch 7/100\n",
      "\u001b[1m68/68\u001b[0m \u001b[32m━━━━━━━━━━━━━━━━━━━━\u001b[0m\u001b[37m\u001b[0m \u001b[1m0s\u001b[0m 2s/step - loss: 215.8169 - mean_squared_error: 215.8169\n",
      "Epoch 7: val_mean_squared_error improved from 423.72696 to 94.35809, saving model to model.keras\n",
      "\u001b[1m68/68\u001b[0m \u001b[32m━━━━━━━━━━━━━━━━━━━━\u001b[0m\u001b[37m\u001b[0m \u001b[1m130s\u001b[0m 2s/step - loss: 215.6311 - mean_squared_error: 215.6311 - val_loss: 94.3581 - val_mean_squared_error: 94.3581\n",
      "Epoch 8/100\n",
      "\u001b[1m68/68\u001b[0m \u001b[32m━━━━━━━━━━━━━━━━━━━━\u001b[0m\u001b[37m\u001b[0m \u001b[1m0s\u001b[0m 2s/step - loss: 192.6732 - mean_squared_error: 192.6732\n",
      "Epoch 8: val_mean_squared_error did not improve from 94.35809\n",
      "\u001b[1m68/68\u001b[0m \u001b[32m━━━━━━━━━━━━━━━━━━━━\u001b[0m\u001b[37m\u001b[0m \u001b[1m130s\u001b[0m 2s/step - loss: 192.5805 - mean_squared_error: 192.5805 - val_loss: 13427.1768 - val_mean_squared_error: 13427.1768\n",
      "Epoch 9/100\n",
      "\u001b[1m68/68\u001b[0m \u001b[32m━━━━━━━━━━━━━━━━━━━━\u001b[0m\u001b[37m\u001b[0m \u001b[1m0s\u001b[0m 2s/step - loss: 186.7395 - mean_squared_error: 186.7395\n",
      "Epoch 9: val_mean_squared_error did not improve from 94.35809\n",
      "\u001b[1m68/68\u001b[0m \u001b[32m━━━━━━━━━━━━━━━━━━━━\u001b[0m\u001b[37m\u001b[0m \u001b[1m130s\u001b[0m 2s/step - loss: 186.4835 - mean_squared_error: 186.4835 - val_loss: 3017.3413 - val_mean_squared_error: 3017.3413\n",
      "Epoch 10/100\n",
      "\u001b[1m68/68\u001b[0m \u001b[32m━━━━━━━━━━━━━━━━━━━━\u001b[0m\u001b[37m\u001b[0m \u001b[1m0s\u001b[0m 2s/step - loss: 161.5148 - mean_squared_error: 161.5148\n",
      "Epoch 10: val_mean_squared_error did not improve from 94.35809\n",
      "\u001b[1m68/68\u001b[0m \u001b[32m━━━━━━━━━━━━━━━━━━━━\u001b[0m\u001b[37m\u001b[0m \u001b[1m135s\u001b[0m 2s/step - loss: 161.3540 - mean_squared_error: 161.3540 - val_loss: 497.9829 - val_mean_squared_error: 497.9829\n",
      "Epoch 11/100\n",
      "\u001b[1m68/68\u001b[0m \u001b[32m━━━━━━━━━━━━━━━━━━━━\u001b[0m\u001b[37m\u001b[0m \u001b[1m0s\u001b[0m 2s/step - loss: 148.0510 - mean_squared_error: 148.0510\n",
      "Epoch 11: val_mean_squared_error did not improve from 94.35809\n",
      "\u001b[1m68/68\u001b[0m \u001b[32m━━━━━━━━━━━━━━━━━━━━\u001b[0m\u001b[37m\u001b[0m \u001b[1m129s\u001b[0m 2s/step - loss: 147.8569 - mean_squared_error: 147.8569 - val_loss: 100.0830 - val_mean_squared_error: 100.0830\n",
      "Epoch 12/100\n",
      "\u001b[1m68/68\u001b[0m \u001b[32m━━━━━━━━━━━━━━━━━━━━\u001b[0m\u001b[37m\u001b[0m \u001b[1m0s\u001b[0m 2s/step - loss: 140.1193 - mean_squared_error: 140.1193\n",
      "Epoch 12: val_mean_squared_error did not improve from 94.35809\n",
      "\u001b[1m68/68\u001b[0m \u001b[32m━━━━━━━━━━━━━━━━━━━━\u001b[0m\u001b[37m\u001b[0m \u001b[1m130s\u001b[0m 2s/step - loss: 139.9046 - mean_squared_error: 139.9046 - val_loss: 776.7823 - val_mean_squared_error: 776.7823\n",
      "Epoch 13/100\n",
      "\u001b[1m68/68\u001b[0m \u001b[32m━━━━━━━━━━━━━━━━━━━━\u001b[0m\u001b[37m\u001b[0m \u001b[1m0s\u001b[0m 2s/step - loss: 115.5402 - mean_squared_error: 115.5402\n",
      "Epoch 13: val_mean_squared_error did not improve from 94.35809\n",
      "\u001b[1m68/68\u001b[0m \u001b[32m━━━━━━━━━━━━━━━━━━━━\u001b[0m\u001b[37m\u001b[0m \u001b[1m129s\u001b[0m 2s/step - loss: 115.4708 - mean_squared_error: 115.4708 - val_loss: 567.6480 - val_mean_squared_error: 567.6480\n",
      "Epoch 14/100\n",
      "\u001b[1m68/68\u001b[0m \u001b[32m━━━━━━━━━━━━━━━━━━━━\u001b[0m\u001b[37m\u001b[0m \u001b[1m0s\u001b[0m 2s/step - loss: 128.1055 - mean_squared_error: 128.1055\n",
      "Epoch 14: val_mean_squared_error did not improve from 94.35809\n",
      "\u001b[1m68/68\u001b[0m \u001b[32m━━━━━━━━━━━━━━━━━━━━\u001b[0m\u001b[37m\u001b[0m \u001b[1m129s\u001b[0m 2s/step - loss: 127.8207 - mean_squared_error: 127.8207 - val_loss: 5866.2788 - val_mean_squared_error: 5866.2788\n",
      "Epoch 15/100\n",
      "\u001b[1m68/68\u001b[0m \u001b[32m━━━━━━━━━━━━━━━━━━━━\u001b[0m\u001b[37m\u001b[0m \u001b[1m0s\u001b[0m 2s/step - loss: 159.9625 - mean_squared_error: 159.9625\n",
      "Epoch 15: val_mean_squared_error improved from 94.35809 to 46.13149, saving model to model.keras\n",
      "\u001b[1m68/68\u001b[0m \u001b[32m━━━━━━━━━━━━━━━━━━━━\u001b[0m\u001b[37m\u001b[0m \u001b[1m131s\u001b[0m 2s/step - loss: 159.5353 - mean_squared_error: 159.5353 - val_loss: 46.1315 - val_mean_squared_error: 46.1315\n",
      "Epoch 16/100\n",
      "\u001b[1m68/68\u001b[0m \u001b[32m━━━━━━━━━━━━━━━━━━━━\u001b[0m\u001b[37m\u001b[0m \u001b[1m0s\u001b[0m 2s/step - loss: 103.0397 - mean_squared_error: 103.0397\n",
      "Epoch 16: val_mean_squared_error did not improve from 46.13149\n",
      "\u001b[1m68/68\u001b[0m \u001b[32m━━━━━━━━━━━━━━━━━━━━\u001b[0m\u001b[37m\u001b[0m \u001b[1m129s\u001b[0m 2s/step - loss: 102.8938 - mean_squared_error: 102.8938 - val_loss: 887.1202 - val_mean_squared_error: 887.1202\n",
      "Epoch 17/100\n",
      "\u001b[1m68/68\u001b[0m \u001b[32m━━━━━━━━━━━━━━━━━━━━\u001b[0m\u001b[37m\u001b[0m \u001b[1m0s\u001b[0m 2s/step - loss: 87.6364 - mean_squared_error: 87.6364\n",
      "Epoch 17: val_mean_squared_error did not improve from 46.13149\n",
      "\u001b[1m68/68\u001b[0m \u001b[32m━━━━━━━━━━━━━━━━━━━━\u001b[0m\u001b[37m\u001b[0m \u001b[1m130s\u001b[0m 2s/step - loss: 87.5192 - mean_squared_error: 87.5192 - val_loss: 1629.3217 - val_mean_squared_error: 1629.3217\n",
      "Epoch 18/100\n",
      "\u001b[1m68/68\u001b[0m \u001b[32m━━━━━━━━━━━━━━━━━━━━\u001b[0m\u001b[37m\u001b[0m \u001b[1m0s\u001b[0m 2s/step - loss: 92.8829 - mean_squared_error: 92.8829\n",
      "Epoch 18: val_mean_squared_error did not improve from 46.13149\n",
      "\u001b[1m68/68\u001b[0m \u001b[32m━━━━━━━━━━━━━━━━━━━━\u001b[0m\u001b[37m\u001b[0m \u001b[1m131s\u001b[0m 2s/step - loss: 92.7599 - mean_squared_error: 92.7599 - val_loss: 540.2372 - val_mean_squared_error: 540.2372\n",
      "Epoch 19/100\n",
      "\u001b[1m68/68\u001b[0m \u001b[32m━━━━━━━━━━━━━━━━━━━━\u001b[0m\u001b[37m\u001b[0m \u001b[1m0s\u001b[0m 2s/step - loss: 79.8663 - mean_squared_error: 79.8663\n",
      "Epoch 19: val_mean_squared_error did not improve from 46.13149\n",
      "\u001b[1m68/68\u001b[0m \u001b[32m━━━━━━━━━━━━━━━━━━━━\u001b[0m\u001b[37m\u001b[0m \u001b[1m133s\u001b[0m 2s/step - loss: 79.7273 - mean_squared_error: 79.7273 - val_loss: 2570.4468 - val_mean_squared_error: 2570.4468\n",
      "Epoch 20/100\n",
      "\u001b[1m68/68\u001b[0m \u001b[32m━━━━━━━━━━━━━━━━━━━━\u001b[0m\u001b[37m\u001b[0m \u001b[1m0s\u001b[0m 2s/step - loss: 88.1724 - mean_squared_error: 88.1724\n",
      "Epoch 20: val_mean_squared_error did not improve from 46.13149\n",
      "\u001b[1m68/68\u001b[0m \u001b[32m━━━━━━━━━━━━━━━━━━━━\u001b[0m\u001b[37m\u001b[0m \u001b[1m132s\u001b[0m 2s/step - loss: 87.9846 - mean_squared_error: 87.9846 - val_loss: 1182.5562 - val_mean_squared_error: 1182.5562\n",
      "Epoch 21/100\n",
      "\u001b[1m68/68\u001b[0m \u001b[32m━━━━━━━━━━━━━━━━━━━━\u001b[0m\u001b[37m\u001b[0m \u001b[1m0s\u001b[0m 2s/step - loss: 85.6174 - mean_squared_error: 85.6174\n",
      "Epoch 21: val_mean_squared_error improved from 46.13149 to 30.16266, saving model to model.keras\n",
      "\u001b[1m68/68\u001b[0m \u001b[32m━━━━━━━━━━━━━━━━━━━━\u001b[0m\u001b[37m\u001b[0m \u001b[1m136s\u001b[0m 2s/step - loss: 85.4292 - mean_squared_error: 85.4292 - val_loss: 30.1627 - val_mean_squared_error: 30.1627\n",
      "Epoch 22/100\n",
      "\u001b[1m68/68\u001b[0m \u001b[32m━━━━━━━━━━━━━━━━━━━━\u001b[0m\u001b[37m\u001b[0m \u001b[1m0s\u001b[0m 2s/step - loss: 79.8442 - mean_squared_error: 79.8442\n",
      "Epoch 22: val_mean_squared_error did not improve from 30.16266\n",
      "\u001b[1m68/68\u001b[0m \u001b[32m━━━━━━━━━━━━━━━━━━━━\u001b[0m\u001b[37m\u001b[0m \u001b[1m132s\u001b[0m 2s/step - loss: 79.7082 - mean_squared_error: 79.7082 - val_loss: 1276.6276 - val_mean_squared_error: 1276.6276\n",
      "Epoch 23/100\n",
      "\u001b[1m68/68\u001b[0m \u001b[32m━━━━━━━━━━━━━━━━━━━━\u001b[0m\u001b[37m\u001b[0m \u001b[1m0s\u001b[0m 2s/step - loss: 85.9826 - mean_squared_error: 85.9826\n",
      "Epoch 23: val_mean_squared_error did not improve from 30.16266\n",
      "\u001b[1m68/68\u001b[0m \u001b[32m━━━━━━━━━━━━━━━━━━━━\u001b[0m\u001b[37m\u001b[0m \u001b[1m135s\u001b[0m 2s/step - loss: 85.8341 - mean_squared_error: 85.8341 - val_loss: 1919.4915 - val_mean_squared_error: 1919.4915\n",
      "Epoch 24/100\n",
      "\u001b[1m68/68\u001b[0m \u001b[32m━━━━━━━━━━━━━━━━━━━━\u001b[0m\u001b[37m\u001b[0m \u001b[1m0s\u001b[0m 2s/step - loss: 67.7036 - mean_squared_error: 67.7036\n",
      "Epoch 24: val_mean_squared_error did not improve from 30.16266\n",
      "\u001b[1m68/68\u001b[0m \u001b[32m━━━━━━━━━━━━━━━━━━━━\u001b[0m\u001b[37m\u001b[0m \u001b[1m133s\u001b[0m 2s/step - loss: 67.5658 - mean_squared_error: 67.5658 - val_loss: 1368.0985 - val_mean_squared_error: 1368.0985\n",
      "Epoch 25/100\n",
      "\u001b[1m68/68\u001b[0m \u001b[32m━━━━━━━━━━━━━━━━━━━━\u001b[0m\u001b[37m\u001b[0m \u001b[1m0s\u001b[0m 2s/step - loss: 63.4237 - mean_squared_error: 63.4237\n",
      "Epoch 25: val_mean_squared_error did not improve from 30.16266\n",
      "\u001b[1m68/68\u001b[0m \u001b[32m━━━━━━━━━━━━━━━━━━━━\u001b[0m\u001b[37m\u001b[0m \u001b[1m131s\u001b[0m 2s/step - loss: 63.4207 - mean_squared_error: 63.4207 - val_loss: 1265.3768 - val_mean_squared_error: 1265.3768\n",
      "Epoch 26/100\n",
      "\u001b[1m68/68\u001b[0m \u001b[32m━━━━━━━━━━━━━━━━━━━━\u001b[0m\u001b[37m\u001b[0m \u001b[1m0s\u001b[0m 2s/step - loss: 68.1211 - mean_squared_error: 68.1211\n",
      "Epoch 26: val_mean_squared_error did not improve from 30.16266\n",
      "\u001b[1m68/68\u001b[0m \u001b[32m━━━━━━━━━━━━━━━━━━━━\u001b[0m\u001b[37m\u001b[0m \u001b[1m131s\u001b[0m 2s/step - loss: 68.0148 - mean_squared_error: 68.0148 - val_loss: 460.1681 - val_mean_squared_error: 460.1681\n",
      "Epoch 27/100\n",
      "\u001b[1m68/68\u001b[0m \u001b[32m━━━━━━━━━━━━━━━━━━━━\u001b[0m\u001b[37m\u001b[0m \u001b[1m0s\u001b[0m 2s/step - loss: 94.3587 - mean_squared_error: 94.3587\n",
      "Epoch 27: val_mean_squared_error did not improve from 30.16266\n",
      "\u001b[1m68/68\u001b[0m \u001b[32m━━━━━━━━━━━━━━━━━━━━\u001b[0m\u001b[37m\u001b[0m \u001b[1m132s\u001b[0m 2s/step - loss: 94.0272 - mean_squared_error: 94.0272 - val_loss: 1334.7958 - val_mean_squared_error: 1334.7958\n",
      "Epoch 28/100\n",
      "\u001b[1m68/68\u001b[0m \u001b[32m━━━━━━━━━━━━━━━━━━━━\u001b[0m\u001b[37m\u001b[0m \u001b[1m0s\u001b[0m 2s/step - loss: 63.5197 - mean_squared_error: 63.5197\n",
      "Epoch 28: val_mean_squared_error did not improve from 30.16266\n",
      "\u001b[1m68/68\u001b[0m \u001b[32m━━━━━━━━━━━━━━━━━━━━\u001b[0m\u001b[37m\u001b[0m \u001b[1m132s\u001b[0m 2s/step - loss: 63.3860 - mean_squared_error: 63.3860 - val_loss: 597.9107 - val_mean_squared_error: 597.9107\n",
      "Epoch 29/100\n",
      "\u001b[1m68/68\u001b[0m \u001b[32m━━━━━━━━━━━━━━━━━━━━\u001b[0m\u001b[37m\u001b[0m \u001b[1m0s\u001b[0m 2s/step - loss: 58.3924 - mean_squared_error: 58.3924\n",
      "Epoch 29: val_mean_squared_error did not improve from 30.16266\n",
      "\u001b[1m68/68\u001b[0m \u001b[32m━━━━━━━━━━━━━━━━━━━━\u001b[0m\u001b[37m\u001b[0m \u001b[1m131s\u001b[0m 2s/step - loss: 58.2808 - mean_squared_error: 58.2808 - val_loss: 1123.2650 - val_mean_squared_error: 1123.2650\n",
      "Epoch 30/100\n",
      "\u001b[1m68/68\u001b[0m \u001b[32m━━━━━━━━━━━━━━━━━━━━\u001b[0m\u001b[37m\u001b[0m \u001b[1m0s\u001b[0m 2s/step - loss: 54.7499 - mean_squared_error: 54.7499\n",
      "Epoch 30: val_mean_squared_error did not improve from 30.16266\n",
      "\u001b[1m68/68\u001b[0m \u001b[32m━━━━━━━━━━━━━━━━━━━━\u001b[0m\u001b[37m\u001b[0m \u001b[1m133s\u001b[0m 2s/step - loss: 54.6914 - mean_squared_error: 54.6914 - val_loss: 60.7602 - val_mean_squared_error: 60.7602\n",
      "Epoch 31/100\n",
      "\u001b[1m68/68\u001b[0m \u001b[32m━━━━━━━━━━━━━━━━━━━━\u001b[0m\u001b[37m\u001b[0m \u001b[1m0s\u001b[0m 2s/step - loss: 57.2911 - mean_squared_error: 57.2911\n",
      "Epoch 31: val_mean_squared_error did not improve from 30.16266\n",
      "\u001b[1m68/68\u001b[0m \u001b[32m━━━━━━━━━━━━━━━━━━━━\u001b[0m\u001b[37m\u001b[0m \u001b[1m132s\u001b[0m 2s/step - loss: 57.2173 - mean_squared_error: 57.2173 - val_loss: 80.6171 - val_mean_squared_error: 80.6171\n",
      "Epoch 32/100\n",
      "\u001b[1m68/68\u001b[0m \u001b[32m━━━━━━━━━━━━━━━━━━━━\u001b[0m\u001b[37m\u001b[0m \u001b[1m0s\u001b[0m 2s/step - loss: 51.1607 - mean_squared_error: 51.1607\n",
      "Epoch 32: val_mean_squared_error improved from 30.16266 to 15.33750, saving model to model.keras\n",
      "\u001b[1m68/68\u001b[0m \u001b[32m━━━━━━━━━━━━━━━━━━━━\u001b[0m\u001b[37m\u001b[0m \u001b[1m132s\u001b[0m 2s/step - loss: 51.0938 - mean_squared_error: 51.0938 - val_loss: 15.3375 - val_mean_squared_error: 15.3375\n",
      "Epoch 33/100\n",
      "\u001b[1m68/68\u001b[0m \u001b[32m━━━━━━━━━━━━━━━━━━━━\u001b[0m\u001b[37m\u001b[0m \u001b[1m0s\u001b[0m 2s/step - loss: 48.7294 - mean_squared_error: 48.7294\n",
      "Epoch 33: val_mean_squared_error did not improve from 15.33750\n",
      "\u001b[1m68/68\u001b[0m \u001b[32m━━━━━━━━━━━━━━━━━━━━\u001b[0m\u001b[37m\u001b[0m \u001b[1m133s\u001b[0m 2s/step - loss: 48.6372 - mean_squared_error: 48.6372 - val_loss: 275.6447 - val_mean_squared_error: 275.6447\n",
      "Epoch 34/100\n",
      "\u001b[1m68/68\u001b[0m \u001b[32m━━━━━━━━━━━━━━━━━━━━\u001b[0m\u001b[37m\u001b[0m \u001b[1m0s\u001b[0m 2s/step - loss: 43.1763 - mean_squared_error: 43.1763\n",
      "Epoch 34: val_mean_squared_error did not improve from 15.33750\n",
      "\u001b[1m68/68\u001b[0m \u001b[32m━━━━━━━━━━━━━━━━━━━━\u001b[0m\u001b[37m\u001b[0m \u001b[1m131s\u001b[0m 2s/step - loss: 43.1007 - mean_squared_error: 43.1007 - val_loss: 1421.9004 - val_mean_squared_error: 1421.9004\n",
      "Epoch 35/100\n",
      "\u001b[1m68/68\u001b[0m \u001b[32m━━━━━━━━━━━━━━━━━━━━\u001b[0m\u001b[37m\u001b[0m \u001b[1m0s\u001b[0m 2s/step - loss: 43.1975 - mean_squared_error: 43.1975\n",
      "Epoch 35: val_mean_squared_error did not improve from 15.33750\n",
      "\u001b[1m68/68\u001b[0m \u001b[32m━━━━━━━━━━━━━━━━━━━━\u001b[0m\u001b[37m\u001b[0m \u001b[1m131s\u001b[0m 2s/step - loss: 43.1430 - mean_squared_error: 43.1430 - val_loss: 129.2144 - val_mean_squared_error: 129.2144\n",
      "Epoch 36/100\n",
      "\u001b[1m68/68\u001b[0m \u001b[32m━━━━━━━━━━━━━━━━━━━━\u001b[0m\u001b[37m\u001b[0m \u001b[1m0s\u001b[0m 2s/step - loss: 47.5516 - mean_squared_error: 47.5516\n",
      "Epoch 36: val_mean_squared_error did not improve from 15.33750\n",
      "\u001b[1m68/68\u001b[0m \u001b[32m━━━━━━━━━━━━━━━━━━━━\u001b[0m\u001b[37m\u001b[0m \u001b[1m132s\u001b[0m 2s/step - loss: 47.4505 - mean_squared_error: 47.4505 - val_loss: 448.2468 - val_mean_squared_error: 448.2468\n",
      "Epoch 37/100\n",
      "\u001b[1m68/68\u001b[0m \u001b[32m━━━━━━━━━━━━━━━━━━━━\u001b[0m\u001b[37m\u001b[0m \u001b[1m0s\u001b[0m 2s/step - loss: 50.9651 - mean_squared_error: 50.9651\n",
      "Epoch 37: val_mean_squared_error did not improve from 15.33750\n",
      "\u001b[1m68/68\u001b[0m \u001b[32m━━━━━━━━━━━━━━━━━━━━\u001b[0m\u001b[37m\u001b[0m \u001b[1m133s\u001b[0m 2s/step - loss: 50.8353 - mean_squared_error: 50.8353 - val_loss: 328.0930 - val_mean_squared_error: 328.0930\n",
      "Epoch 38/100\n",
      "\u001b[1m68/68\u001b[0m \u001b[32m━━━━━━━━━━━━━━━━━━━━\u001b[0m\u001b[37m\u001b[0m \u001b[1m0s\u001b[0m 2s/step - loss: 45.1738 - mean_squared_error: 45.1738\n",
      "Epoch 38: val_mean_squared_error did not improve from 15.33750\n",
      "\u001b[1m68/68\u001b[0m \u001b[32m━━━━━━━━━━━━━━━━━━━━\u001b[0m\u001b[37m\u001b[0m \u001b[1m133s\u001b[0m 2s/step - loss: 45.0862 - mean_squared_error: 45.0862 - val_loss: 228.1764 - val_mean_squared_error: 228.1764\n",
      "Epoch 39/100\n",
      "\u001b[1m68/68\u001b[0m \u001b[32m━━━━━━━━━━━━━━━━━━━━\u001b[0m\u001b[37m\u001b[0m \u001b[1m0s\u001b[0m 2s/step - loss: 39.5456 - mean_squared_error: 39.5456\n",
      "Epoch 39: val_mean_squared_error did not improve from 15.33750\n",
      "\u001b[1m68/68\u001b[0m \u001b[32m━━━━━━━━━━━━━━━━━━━━\u001b[0m\u001b[37m\u001b[0m \u001b[1m131s\u001b[0m 2s/step - loss: 39.4611 - mean_squared_error: 39.4611 - val_loss: 65.7842 - val_mean_squared_error: 65.7842\n",
      "Epoch 40/100\n",
      "\u001b[1m68/68\u001b[0m \u001b[32m━━━━━━━━━━━━━━━━━━━━\u001b[0m\u001b[37m\u001b[0m \u001b[1m0s\u001b[0m 2s/step - loss: 38.4131 - mean_squared_error: 38.4131\n",
      "Epoch 40: val_mean_squared_error did not improve from 15.33750\n",
      "\u001b[1m68/68\u001b[0m \u001b[32m━━━━━━━━━━━━━━━━━━━━\u001b[0m\u001b[37m\u001b[0m \u001b[1m131s\u001b[0m 2s/step - loss: 38.3588 - mean_squared_error: 38.3588 - val_loss: 43.3984 - val_mean_squared_error: 43.3984\n",
      "Epoch 41/100\n",
      "\u001b[1m68/68\u001b[0m \u001b[32m━━━━━━━━━━━━━━━━━━━━\u001b[0m\u001b[37m\u001b[0m \u001b[1m0s\u001b[0m 2s/step - loss: 41.7862 - mean_squared_error: 41.7862\n",
      "Epoch 41: val_mean_squared_error did not improve from 15.33750\n",
      "\u001b[1m68/68\u001b[0m \u001b[32m━━━━━━━━━━━━━━━━━━━━\u001b[0m\u001b[37m\u001b[0m \u001b[1m131s\u001b[0m 2s/step - loss: 41.6929 - mean_squared_error: 41.6929 - val_loss: 29.6918 - val_mean_squared_error: 29.6918\n",
      "Epoch 42/100\n",
      "\u001b[1m68/68\u001b[0m \u001b[32m━━━━━━━━━━━━━━━━━━━━\u001b[0m\u001b[37m\u001b[0m \u001b[1m0s\u001b[0m 2s/step - loss: 36.4199 - mean_squared_error: 36.4199\n",
      "Epoch 42: val_mean_squared_error did not improve from 15.33750\n",
      "\u001b[1m68/68\u001b[0m \u001b[32m━━━━━━━━━━━━━━━━━━━━\u001b[0m\u001b[37m\u001b[0m \u001b[1m133s\u001b[0m 2s/step - loss: 36.3518 - mean_squared_error: 36.3518 - val_loss: 187.0071 - val_mean_squared_error: 187.0071\n",
      "Epoch 43/100\n",
      "\u001b[1m68/68\u001b[0m \u001b[32m━━━━━━━━━━━━━━━━━━━━\u001b[0m\u001b[37m\u001b[0m \u001b[1m0s\u001b[0m 2s/step - loss: 33.6025 - mean_squared_error: 33.6025\n",
      "Epoch 43: val_mean_squared_error did not improve from 15.33750\n",
      "\u001b[1m68/68\u001b[0m \u001b[32m━━━━━━━━━━━━━━━━━━━━\u001b[0m\u001b[37m\u001b[0m \u001b[1m131s\u001b[0m 2s/step - loss: 33.5495 - mean_squared_error: 33.5495 - val_loss: 393.1362 - val_mean_squared_error: 393.1362\n",
      "Epoch 44/100\n",
      "\u001b[1m68/68\u001b[0m \u001b[32m━━━━━━━━━━━━━━━━━━━━\u001b[0m\u001b[37m\u001b[0m \u001b[1m0s\u001b[0m 2s/step - loss: 35.0457 - mean_squared_error: 35.0457\n",
      "Epoch 44: val_mean_squared_error did not improve from 15.33750\n",
      "\u001b[1m68/68\u001b[0m \u001b[32m━━━━━━━━━━━━━━━━━━━━\u001b[0m\u001b[37m\u001b[0m \u001b[1m133s\u001b[0m 2s/step - loss: 34.9802 - mean_squared_error: 34.9802 - val_loss: 81.0042 - val_mean_squared_error: 81.0042\n",
      "Epoch 45/100\n",
      "\u001b[1m68/68\u001b[0m \u001b[32m━━━━━━━━━━━━━━━━━━━━\u001b[0m\u001b[37m\u001b[0m \u001b[1m0s\u001b[0m 2s/step - loss: 36.3396 - mean_squared_error: 36.3396\n",
      "Epoch 45: val_mean_squared_error did not improve from 15.33750\n",
      "\u001b[1m68/68\u001b[0m \u001b[32m━━━━━━━━━━━━━━━━━━━━\u001b[0m\u001b[37m\u001b[0m \u001b[1m132s\u001b[0m 2s/step - loss: 36.2453 - mean_squared_error: 36.2453 - val_loss: 687.5837 - val_mean_squared_error: 687.5837\n",
      "Epoch 46/100\n",
      "\u001b[1m68/68\u001b[0m \u001b[32m━━━━━━━━━━━━━━━━━━━━\u001b[0m\u001b[37m\u001b[0m \u001b[1m0s\u001b[0m 2s/step - loss: 39.3012 - mean_squared_error: 39.3012\n",
      "Epoch 46: val_mean_squared_error did not improve from 15.33750\n",
      "\u001b[1m68/68\u001b[0m \u001b[32m━━━━━━━━━━━━━━━━━━━━\u001b[0m\u001b[37m\u001b[0m \u001b[1m134s\u001b[0m 2s/step - loss: 39.2067 - mean_squared_error: 39.2067 - val_loss: 836.0076 - val_mean_squared_error: 836.0076\n",
      "Epoch 47/100\n",
      "\u001b[1m68/68\u001b[0m \u001b[32m━━━━━━━━━━━━━━━━━━━━\u001b[0m\u001b[37m\u001b[0m \u001b[1m0s\u001b[0m 2s/step - loss: 43.1550 - mean_squared_error: 43.1550\n",
      "Epoch 47: val_mean_squared_error did not improve from 15.33750\n",
      "\u001b[1m68/68\u001b[0m \u001b[32m━━━━━━━━━━━━━━━━━━━━\u001b[0m\u001b[37m\u001b[0m \u001b[1m136s\u001b[0m 2s/step - loss: 43.0035 - mean_squared_error: 43.0035 - val_loss: 180.1418 - val_mean_squared_error: 180.1418\n",
      "Epoch 47: early stopping\n"
     ]
    }
   ],
   "source": [
    "model.compile(Adam(learning_rate=0.001), loss='mean_squared_error',\n",
    "              metrics=['mean_squared_error'])\n",
    "\n",
    "filepath = \"model.keras\"\n",
    "\n",
    "earlystopper = EarlyStopping(patience=15, verbose=1)\n",
    "\n",
    "checkpoint = ModelCheckpoint(filepath, monitor='val_mean_squared_error', verbose=1,\n",
    "                             save_best_only=True, mode='min')\n",
    "\n",
    "callbacks_list = [earlystopper, checkpoint]\n",
    "\n",
    "history = model.fit(X_train, y_train, validation_split=0.1, batch_size=16, epochs=100,\n",
    "                    callbacks=callbacks_list)"
   ]
  },
  {
   "cell_type": "markdown",
   "metadata": {
    "id": "3qrknn5q-KY9"
   },
   "source": [
    "## Plot the Training Curves"
   ]
  },
  {
   "cell_type": "code",
   "execution_count": 16,
   "metadata": {
    "_kg_hide-input": true,
    "executionInfo": {
     "elapsed": 1241,
     "status": "aborted",
     "timestamp": 1716057815327,
     "user": {
      "displayName": "曾若恩",
      "userId": "06852139178101415021"
     },
     "user_tz": -480
    },
    "id": "jn17Ykfj-KY9"
   },
   "outputs": [
    {
     "data": {
      "text/plain": [
       "<Figure size 640x480 with 0 Axes>"
      ]
     },
     "execution_count": 16,
     "metadata": {},
     "output_type": "execute_result"
    },
    {
     "data": {
      "image/png": "[encoded data removed]",
      "text/plain": [
       "<Figure size 640x480 with 1 Axes>"
      ]
     },
     "metadata": {},
     "output_type": "display_data"
    },
    {
     "data": {
      "image/png": "[encoded data removed]",
      "text/plain": [
       "<Figure size 640x480 with 1 Axes>"
      ]
     },
     "metadata": {},
     "output_type": "display_data"
    },
    {
     "data": {
      "text/plain": [
       "<Figure size 640x480 with 0 Axes>"
      ]
     },
     "metadata": {},
     "output_type": "display_data"
    }
   ],
   "source": [
    "# display the loss and accuracy curves\n",
    "\n",
    "import matplotlib.pyplot as plt\n",
    "\n",
    "mean_squared_error = history.history['mean_squared_error']\n",
    "val_mean_squared_error = history.history['val_mean_squared_error']\n",
    "loss = history.history['loss']\n",
    "val_loss = history.history['val_loss']\n",
    "\n",
    "epochs = range(1, len(mean_squared_error) + 1)\n",
    "\n",
    "plt.plot(epochs, loss, 'bo', label='Training loss')\n",
    "plt.plot(epochs, val_loss, 'b', label='Validation loss')\n",
    "plt.title('Training and validation loss')\n",
    "plt.legend()\n",
    "plt.figure()\n",
    "\n",
    "plt.plot(epochs, mean_squared_error, 'bo', label='Training mse')\n",
    "plt.plot(epochs, val_mean_squared_error, 'b', label='Validation mse')\n",
    "plt.title('Training and validation mse')\n",
    "plt.legend()\n",
    "plt.figure()"
   ]
  },
  {
   "cell_type": "markdown",
   "metadata": {
    "id": "a9xgA8J3-KY9"
   },
   "source": [
    "## Make a Prediction"
   ]
  },
  {
   "cell_type": "code",
   "execution_count": 17,
   "metadata": {
    "executionInfo": {
     "elapsed": 1240,
     "status": "aborted",
     "timestamp": 1716057815327,
     "user": {
      "displayName": "曾若恩",
      "userId": "06852139178101415021"
     },
     "user_tz": -480
    },
    "id": "d4wPBfwP-KY-"
   },
   "outputs": [
    {
     "name": "stdout",
     "output_type": "stream",
     "text": [
      "\u001b[1m563/563\u001b[0m \u001b[32m━━━━━━━━━━━━━━━━━━━━\u001b[0m\u001b[37m\u001b[0m \u001b[1m655s\u001b[0m 1s/step\n"
     ]
    }
   ],
   "source": [
    "# use the best epoch\n",
    "model.load_weights('model.keras')\n",
    "\n",
    "preds = model.predict(X_test)\n"
   ]
  },
  {
   "cell_type": "code",
   "execution_count": 18,
   "metadata": {
    "executionInfo": {
     "elapsed": 1239,
     "status": "aborted",
     "timestamp": 1716057815328,
     "user": {
      "displayName": "曾若恩",
      "userId": "06852139178101415021"
     },
     "user_tz": -480
    },
    "id": "XU8gcZY8-KY-"
   },
   "outputs": [
    {
     "data": {
      "text/plain": [
       "array([[ 1.5313612],\n",
       "       [ 0.       ],\n",
       "       [ 0.       ],\n",
       "       ...,\n",
       "       [ 7.7515454],\n",
       "       [37.631813 ],\n",
       "       [ 1.573574 ]], dtype=float32)"
      ]
     },
     "execution_count": 18,
     "metadata": {},
     "output_type": "execute_result"
    }
   ],
   "source": [
    "preds"
   ]
  },
  {
   "cell_type": "code",
   "execution_count": 19,
   "metadata": {
    "_kg_hide-input": true,
    "executionInfo": {
     "elapsed": 1238,
     "status": "aborted",
     "timestamp": 1716057815328,
     "user": {
      "displayName": "曾若恩",
      "userId": "06852139178101415021"
     },
     "user_tz": -480
    },
    "id": "yLU8V4am-KY-"
   },
   "outputs": [],
   "source": [
    "# add the preds to df_test\n",
    "df_test['preds'] = np.round(preds)\n",
    "\n",
    "# change the preds to integers to improve the look of the displayed results\n",
    "df_test['preds'] = df_test['preds'].apply(int)\n",
    "\n",
    "# create a dataframe caled df_results\n",
    "df_results = df_test[['mask_id', 'num_cells', 'preds']]\n",
    "\n",
    "# add a new column with the difference between the true and predicted values.\n",
    "df_results['difference'] = abs(df_results['num_cells'] - df_results['preds'])\n"
   ]
  },
  {
   "cell_type": "markdown",
   "metadata": {
    "id": "t-cPbRvY-KY_"
   },
   "source": [
    "### What were the max and min errors?"
   ]
  },
  {
   "cell_type": "code",
   "execution_count": 20,
   "metadata": {
    "executionInfo": {
     "elapsed": 2,
     "status": "aborted",
     "timestamp": 1716057815583,
     "user": {
      "displayName": "曾若恩",
      "userId": "06852139178101415021"
     },
     "user_tz": -480
    },
    "id": "gQivDNHO-KY_"
   },
   "outputs": [
    {
     "data": {
      "text/html": [
       "<div>\n",
       "<style scoped>\n",
       "    .dataframe tbody tr th:only-of-type {\n",
       "        vertical-align: middle;\n",
       "    }\n",
       "\n",
       "    .dataframe tbody tr th {\n",
       "        vertical-align: top;\n",
       "    }\n",
       "\n",
       "    .dataframe thead th {\n",
       "        text-align: right;\n",
       "    }\n",
       "</style>\n",
       "<table border=\"1\" class=\"dataframe\">\n",
       "  <thead>\n",
       "    <tr style=\"text-align: right;\">\n",
       "      <th></th>\n",
       "      <th>mask_id</th>\n",
       "      <th>num_cells</th>\n",
       "      <th>preds</th>\n",
       "      <th>difference</th>\n",
       "    </tr>\n",
       "  </thead>\n",
       "  <tbody>\n",
       "    <tr>\n",
       "      <th>0</th>\n",
       "      <td>SIMCEPImages_B01_C1_F4_s01_w1.TIF</td>\n",
       "      <td>1</td>\n",
       "      <td>2</td>\n",
       "      <td>1</td>\n",
       "    </tr>\n",
       "    <tr>\n",
       "      <th>1</th>\n",
       "      <td>SIMCEPImages_B01_C1_F4_s01_w2.TIF</td>\n",
       "      <td>1</td>\n",
       "      <td>0</td>\n",
       "      <td>1</td>\n",
       "    </tr>\n",
       "    <tr>\n",
       "      <th>2</th>\n",
       "      <td>SIMCEPImages_B01_C1_F4_s02_w1.TIF</td>\n",
       "      <td>1</td>\n",
       "      <td>0</td>\n",
       "      <td>1</td>\n",
       "    </tr>\n",
       "    <tr>\n",
       "      <th>3</th>\n",
       "      <td>SIMCEPImages_B01_C1_F4_s02_w2.TIF</td>\n",
       "      <td>1</td>\n",
       "      <td>1</td>\n",
       "      <td>0</td>\n",
       "    </tr>\n",
       "    <tr>\n",
       "      <th>4</th>\n",
       "      <td>SIMCEPImages_B01_C1_F4_s03_w1.TIF</td>\n",
       "      <td>1</td>\n",
       "      <td>1</td>\n",
       "      <td>0</td>\n",
       "    </tr>\n",
       "    <tr>\n",
       "      <th>...</th>\n",
       "      <td>...</td>\n",
       "      <td>...</td>\n",
       "      <td>...</td>\n",
       "      <td>...</td>\n",
       "    </tr>\n",
       "    <tr>\n",
       "      <th>17995</th>\n",
       "      <td>SIMCEPImages_P24_C100_F48_s23_w2.TIF</td>\n",
       "      <td>100</td>\n",
       "      <td>7</td>\n",
       "      <td>93</td>\n",
       "    </tr>\n",
       "    <tr>\n",
       "      <th>17996</th>\n",
       "      <td>SIMCEPImages_P24_C100_F48_s24_w1.TIF</td>\n",
       "      <td>100</td>\n",
       "      <td>36</td>\n",
       "      <td>64</td>\n",
       "    </tr>\n",
       "    <tr>\n",
       "      <th>17997</th>\n",
       "      <td>SIMCEPImages_P24_C100_F48_s24_w2.TIF</td>\n",
       "      <td>100</td>\n",
       "      <td>8</td>\n",
       "      <td>92</td>\n",
       "    </tr>\n",
       "    <tr>\n",
       "      <th>17998</th>\n",
       "      <td>SIMCEPImages_P24_C100_F48_s25_w1.TIF</td>\n",
       "      <td>100</td>\n",
       "      <td>38</td>\n",
       "      <td>62</td>\n",
       "    </tr>\n",
       "    <tr>\n",
       "      <th>17999</th>\n",
       "      <td>SIMCEPImages_P24_C100_F48_s25_w2.TIF</td>\n",
       "      <td>100</td>\n",
       "      <td>2</td>\n",
       "      <td>98</td>\n",
       "    </tr>\n",
       "  </tbody>\n",
       "</table>\n",
       "<p>18000 rows × 4 columns</p>\n",
       "</div>"
      ],
      "text/plain": [
       "                                    mask_id  num_cells  preds  difference\n",
       "0         SIMCEPImages_B01_C1_F4_s01_w1.TIF          1      2           1\n",
       "1         SIMCEPImages_B01_C1_F4_s01_w2.TIF          1      0           1\n",
       "2         SIMCEPImages_B01_C1_F4_s02_w1.TIF          1      0           1\n",
       "3         SIMCEPImages_B01_C1_F4_s02_w2.TIF          1      1           0\n",
       "4         SIMCEPImages_B01_C1_F4_s03_w1.TIF          1      1           0\n",
       "...                                     ...        ...    ...         ...\n",
       "17995  SIMCEPImages_P24_C100_F48_s23_w2.TIF        100      7          93\n",
       "17996  SIMCEPImages_P24_C100_F48_s24_w1.TIF        100     36          64\n",
       "17997  SIMCEPImages_P24_C100_F48_s24_w2.TIF        100      8          92\n",
       "17998  SIMCEPImages_P24_C100_F48_s25_w1.TIF        100     38          62\n",
       "17999  SIMCEPImages_P24_C100_F48_s25_w2.TIF        100      2          98\n",
       "\n",
       "[18000 rows x 4 columns]"
      ]
     },
     "execution_count": 20,
     "metadata": {},
     "output_type": "execute_result"
    }
   ],
   "source": [
    "df_results.head(18000)"
   ]
  },
  {
   "cell_type": "code",
   "execution_count": 21,
   "metadata": {
    "_kg_hide-input": true,
    "executionInfo": {
     "elapsed": 3,
     "status": "aborted",
     "timestamp": 1716057815584,
     "user": {
      "displayName": "曾若恩",
      "userId": "06852139178101415021"
     },
     "user_tz": -480
    },
    "id": "fCBr08dY-KY_"
   },
   "outputs": [
    {
     "name": "stdout",
     "output_type": "stream",
     "text": [
      "Max Error:  99\n",
      "Min Error:  0\n"
     ]
    }
   ],
   "source": [
    "# What was the max difference?\n",
    "\n",
    "max_diff = df_results['difference'].max()\n",
    "min_diff = df_results['difference'].min()\n",
    "\n",
    "print('Max Error: ', max_diff)\n",
    "print('Min Error: ', min_diff)"
   ]
  },
  {
   "cell_type": "code",
   "execution_count": 22,
   "metadata": {
    "executionInfo": {
     "elapsed": 3,
     "status": "aborted",
     "timestamp": 1716057815584,
     "user": {
      "displayName": "曾若恩",
      "userId": "06852139178101415021"
     },
     "user_tz": -480
    },
    "id": "mNBQ2bQE-KZA"
   },
   "outputs": [
    {
     "name": "stdout",
     "output_type": "stream",
     "text": [
      "The accuracy is:  0.06388888888888888\n"
     ]
    }
   ],
   "source": [
    "tolerance = 0.3\n",
    "\n",
    "image_num = df_results['difference'].size\n",
    "\n",
    "TP = 0\n",
    "\n",
    "for i in range(image_num):\n",
    "    if df_results['difference'][i] < tolerance * df_results['num_cells']:\n",
    "        TP = TP + 1\n",
    "\n",
    "accuracy = TP / image_num\n",
    "\n",
    "print('The accuracy is: ', accuracy)"
   ]
  },
  {
   "cell_type": "markdown",
   "metadata": {
    "id": "AnjyUOhc-KZB"
   },
   "source": [
    "## Convert the Model to Tensorflow.js"
   ]
  },
  {
   "cell_type": "code",
   "execution_count": 23,
   "metadata": {
    "_kg_hide-output": true,
    "executionInfo": {
     "elapsed": 2,
     "status": "aborted",
     "timestamp": 1716057815584,
     "user": {
      "displayName": "曾若恩",
      "userId": "06852139178101415021"
     },
     "user_tz": -480
    },
    "id": "2dHVDDrJ-KZB"
   },
   "outputs": [
    {
     "name": "stdout",
     "output_type": "stream",
     "text": [
      "Collecting tensorflowjs\n",
      "  Using cached tensorflowjs-4.19.0-py3-none-any.whl.metadata (3.2 kB)\n",
      "Collecting flax>=0.7.2 (from tensorflowjs)\n",
      "  Using cached flax-0.8.3-py3-none-any.whl.metadata (10 kB)\n",
      "Collecting importlib_resources>=5.9.0 (from tensorflowjs)\n",
      "  Using cached importlib_resources-6.4.0-py3-none-any.whl.metadata (3.9 kB)\n",
      "Collecting jax>=0.4.13 (from tensorflowjs)\n",
      "  Using cached jax-0.4.28-py3-none-any.whl.metadata (23 kB)\n",
      "Collecting jaxlib>=0.4.13 (from tensorflowjs)\n",
      "  Using cached jaxlib-0.4.28-cp311-cp311-win_amd64.whl.metadata (1.8 kB)\n",
      "Collecting tensorflow<3,>=2.13.0 (from tensorflowjs)\n",
      "  Using cached tensorflow-2.16.1-cp311-cp311-win_amd64.whl.metadata (3.5 kB)\n",
      "Collecting tf-keras>=2.13.0 (from tensorflowjs)\n",
      "  Using cached tf_keras-2.16.0-py3-none-any.whl.metadata (1.6 kB)\n",
      "Collecting tensorflow-decision-forests>=1.5.0 (from tensorflowjs)\n",
      "  Using cached tensorflow_decision_forests-1.8.1-cp311-cp311-win_amd64.whl\n",
      "Collecting six<2,>=1.16.0 (from tensorflowjs)\n",
      "  Using cached six-1.16.0-py2.py3-none-any.whl.metadata (1.8 kB)\n",
      "Collecting tensorflow-hub>=0.16.1 (from tensorflowjs)\n",
      "  Using cached tensorflow_hub-0.16.1-py2.py3-none-any.whl.metadata (1.3 kB)\n",
      "Collecting packaging~=23.1 (from tensorflowjs)\n",
      "  Using cached packaging-23.2-py3-none-any.whl.metadata (3.2 kB)\n",
      "Collecting numpy>=1.22 (from flax>=0.7.2->tensorflowjs)\n",
      "  Using cached numpy-1.26.4-cp311-cp311-win_amd64.whl.metadata (61 kB)\n",
      "Collecting msgpack (from flax>=0.7.2->tensorflowjs)\n",
      "  Using cached msgpack-1.0.8-cp311-cp311-win_amd64.whl.metadata (9.4 kB)\n",
      "Collecting optax (from flax>=0.7.2->tensorflowjs)\n",
      "  Using cached optax-0.2.2-py3-none-any.whl.metadata (8.1 kB)\n",
      "Collecting orbax-checkpoint (from flax>=0.7.2->tensorflowjs)\n",
      "  Using cached orbax_checkpoint-0.5.11-py3-none-any.whl.metadata (1.8 kB)\n",
      "Collecting tensorstore (from flax>=0.7.2->tensorflowjs)\n",
      "  Using cached tensorstore-0.1.59-cp311-cp311-win_amd64.whl.metadata (3.0 kB)\n",
      "Collecting rich>=11.1 (from flax>=0.7.2->tensorflowjs)\n",
      "  Using cached rich-13.7.1-py3-none-any.whl.metadata (18 kB)\n",
      "Collecting typing-extensions>=4.2 (from flax>=0.7.2->tensorflowjs)\n",
      "  Using cached typing_extensions-4.11.0-py3-none-any.whl.metadata (3.0 kB)\n",
      "Collecting PyYAML>=5.4.1 (from flax>=0.7.2->tensorflowjs)\n",
      "  Using cached PyYAML-6.0.1-cp311-cp311-win_amd64.whl.metadata (2.1 kB)\n",
      "Collecting ml-dtypes>=0.2.0 (from jax>=0.4.13->tensorflowjs)\n",
      "  Using cached ml_dtypes-0.4.0-cp311-cp311-win_amd64.whl.metadata (20 kB)\n",
      "Collecting opt-einsum (from jax>=0.4.13->tensorflowjs)\n",
      "  Using cached opt_einsum-3.3.0-py3-none-any.whl.metadata (6.5 kB)\n",
      "Collecting scipy>=1.9 (from jax>=0.4.13->tensorflowjs)\n",
      "  Using cached scipy-1.13.0-cp311-cp311-win_amd64.whl.metadata (60 kB)\n",
      "Collecting tensorflow-intel==2.16.1 (from tensorflow<3,>=2.13.0->tensorflowjs)\n",
      "  Using cached tensorflow_intel-2.16.1-cp311-cp311-win_amd64.whl.metadata (5.0 kB)\n",
      "Collecting absl-py>=1.0.0 (from tensorflow-intel==2.16.1->tensorflow<3,>=2.13.0->tensorflowjs)\n",
      "  Using cached absl_py-2.1.0-py3-none-any.whl.metadata (2.3 kB)\n",
      "Collecting astunparse>=1.6.0 (from tensorflow-intel==2.16.1->tensorflow<3,>=2.13.0->tensorflowjs)\n",
      "  Using cached astunparse-1.6.3-py2.py3-none-any.whl.metadata (4.4 kB)\n",
      "Collecting flatbuffers>=23.5.26 (from tensorflow-intel==2.16.1->tensorflow<3,>=2.13.0->tensorflowjs)\n",
      "  Using cached flatbuffers-24.3.25-py2.py3-none-any.whl.metadata (850 bytes)\n",
      "Collecting gast!=0.5.0,!=0.5.1,!=0.5.2,>=0.2.1 (from tensorflow-intel==2.16.1->tensorflow<3,>=2.13.0->tensorflowjs)\n",
      "  Using cached gast-0.5.4-py3-none-any.whl.metadata (1.3 kB)\n",
      "Collecting google-pasta>=0.1.1 (from tensorflow-intel==2.16.1->tensorflow<3,>=2.13.0->tensorflowjs)\n",
      "  Using cached google_pasta-0.2.0-py3-none-any.whl.metadata (814 bytes)\n",
      "Collecting h5py>=3.10.0 (from tensorflow-intel==2.16.1->tensorflow<3,>=2.13.0->tensorflowjs)\n",
      "  Using cached h5py-3.11.0-cp311-cp311-win_amd64.whl.metadata (2.5 kB)\n",
      "Collecting libclang>=13.0.0 (from tensorflow-intel==2.16.1->tensorflow<3,>=2.13.0->tensorflowjs)\n",
      "  Using cached libclang-18.1.1-py2.py3-none-win_amd64.whl.metadata (5.3 kB)\n",
      "Collecting ml-dtypes>=0.2.0 (from jax>=0.4.13->tensorflowjs)\n",
      "  Using cached ml_dtypes-0.3.2-cp311-cp311-win_amd64.whl.metadata (20 kB)\n",
      "Collecting protobuf!=4.21.0,!=4.21.1,!=4.21.2,!=4.21.3,!=4.21.4,!=4.21.5,<5.0.0dev,>=3.20.3 (from tensorflow-intel==2.16.1->tensorflow<3,>=2.13.0->tensorflowjs)\n",
      "  Using cached protobuf-4.25.3-cp310-abi3-win_amd64.whl.metadata (541 bytes)\n",
      "Collecting requests<3,>=2.21.0 (from tensorflow-intel==2.16.1->tensorflow<3,>=2.13.0->tensorflowjs)\n",
      "  Using cached requests-2.31.0-py3-none-any.whl.metadata (4.6 kB)\n",
      "Collecting setuptools (from tensorflow-intel==2.16.1->tensorflow<3,>=2.13.0->tensorflowjs)\n",
      "  Using cached setuptools-69.5.1-py3-none-any.whl.metadata (6.2 kB)\n",
      "Collecting termcolor>=1.1.0 (from tensorflow-intel==2.16.1->tensorflow<3,>=2.13.0->tensorflowjs)\n",
      "  Using cached termcolor-2.4.0-py3-none-any.whl.metadata (6.1 kB)\n",
      "Collecting wrapt>=1.11.0 (from tensorflow-intel==2.16.1->tensorflow<3,>=2.13.0->tensorflowjs)\n",
      "  Using cached wrapt-1.16.0-cp311-cp311-win_amd64.whl.metadata (6.8 kB)\n",
      "Collecting grpcio<2.0,>=1.24.3 (from tensorflow-intel==2.16.1->tensorflow<3,>=2.13.0->tensorflowjs)\n",
      "  Using cached grpcio-1.63.0-cp311-cp311-win_amd64.whl.metadata (3.3 kB)\n",
      "Collecting tensorboard<2.17,>=2.16 (from tensorflow-intel==2.16.1->tensorflow<3,>=2.13.0->tensorflowjs)\n",
      "  Using cached tensorboard-2.16.2-py3-none-any.whl.metadata (1.6 kB)\n",
      "Collecting keras>=3.0.0 (from tensorflow-intel==2.16.1->tensorflow<3,>=2.13.0->tensorflowjs)\n",
      "  Using cached keras-3.3.3-py3-none-any.whl.metadata (5.7 kB)\n",
      "Collecting tensorflow-io-gcs-filesystem>=0.23.1 (from tensorflow-intel==2.16.1->tensorflow<3,>=2.13.0->tensorflowjs)\n",
      "  Using cached tensorflow_io_gcs_filesystem-0.31.0-cp311-cp311-win_amd64.whl.metadata (14 kB)\n",
      "Collecting pandas (from tensorflow-decision-forests>=1.5.0->tensorflowjs)\n",
      "  Using cached pandas-2.2.2-cp311-cp311-win_amd64.whl.metadata (19 kB)\n",
      "Collecting tensorflow<3,>=2.13.0 (from tensorflowjs)\n",
      "  Using cached tensorflow-2.15.1-cp311-cp311-win_amd64.whl.metadata (3.4 kB)\n",
      "Collecting wheel (from tensorflow-decision-forests>=1.5.0->tensorflowjs)\n",
      "  Using cached wheel-0.43.0-py3-none-any.whl.metadata (2.2 kB)\n",
      "Collecting wurlitzer (from tensorflow-decision-forests>=1.5.0->tensorflowjs)\n",
      "  Using cached wurlitzer-3.1.0-py3-none-any.whl.metadata (2.5 kB)\n",
      "Collecting tensorflow-intel==2.15.1 (from tensorflow<3,>=2.13.0->tensorflowjs)\n",
      "  Using cached tensorflow_intel-2.15.1-cp311-cp311-win_amd64.whl.metadata (4.9 kB)\n",
      "Collecting wrapt<1.15,>=1.11.0 (from tensorflow-intel==2.15.1->tensorflow<3,>=2.13.0->tensorflowjs)\n",
      "  Using cached wrapt-1.14.1-cp311-cp311-win_amd64.whl.metadata (6.9 kB)\n",
      "Collecting tensorboard<2.16,>=2.15 (from tensorflow-intel==2.15.1->tensorflow<3,>=2.13.0->tensorflowjs)\n",
      "  Using cached tensorboard-2.15.2-py3-none-any.whl.metadata (1.7 kB)\n",
      "Collecting tensorflow-estimator<2.16,>=2.15.0 (from tensorflow-intel==2.15.1->tensorflow<3,>=2.13.0->tensorflowjs)\n",
      "  Using cached tensorflow_estimator-2.15.0-py2.py3-none-any.whl.metadata (1.3 kB)\n",
      "Collecting keras<2.16,>=2.15.0 (from tensorflow-intel==2.15.1->tensorflow<3,>=2.13.0->tensorflowjs)\n",
      "  Using cached keras-2.15.0-py3-none-any.whl.metadata (2.4 kB)\n",
      "INFO: pip is looking at multiple versions of tf-keras to determine which version is compatible with other requirements. This could take a while.\n",
      "Collecting tf-keras>=2.13.0 (from tensorflowjs)\n",
      "  Using cached tf_keras-2.15.1-py3-none-any.whl.metadata (1.7 kB)\n",
      "Collecting markdown-it-py>=2.2.0 (from rich>=11.1->flax>=0.7.2->tensorflowjs)\n",
      "  Using cached markdown_it_py-3.0.0-py3-none-any.whl.metadata (6.9 kB)\n",
      "Collecting pygments<3.0.0,>=2.13.0 (from rich>=11.1->flax>=0.7.2->tensorflowjs)\n",
      "  Using cached pygments-2.18.0-py3-none-any.whl.metadata (2.5 kB)\n",
      "Collecting chex>=0.1.86 (from optax->flax>=0.7.2->tensorflowjs)\n",
      "  Using cached chex-0.1.86-py3-none-any.whl.metadata (17 kB)\n",
      "Collecting etils[epath,epy] (from orbax-checkpoint->flax>=0.7.2->tensorflowjs)\n",
      "  Using cached etils-1.8.0-py3-none-any.whl.metadata (6.4 kB)\n",
      "Collecting nest_asyncio (from orbax-checkpoint->flax>=0.7.2->tensorflowjs)\n",
      "  Using cached nest_asyncio-1.6.0-py3-none-any.whl.metadata (2.8 kB)\n",
      "Collecting python-dateutil>=2.8.2 (from pandas->tensorflow-decision-forests>=1.5.0->tensorflowjs)\n",
      "  Using cached python_dateutil-2.9.0.post0-py2.py3-none-any.whl.metadata (8.4 kB)\n",
      "Collecting pytz>=2020.1 (from pandas->tensorflow-decision-forests>=1.5.0->tensorflowjs)\n",
      "  Using cached pytz-2024.1-py2.py3-none-any.whl.metadata (22 kB)\n",
      "Collecting tzdata>=2022.7 (from pandas->tensorflow-decision-forests>=1.5.0->tensorflowjs)\n",
      "  Using cached tzdata-2024.1-py2.py3-none-any.whl.metadata (1.4 kB)\n",
      "Collecting toolz>=0.9.0 (from chex>=0.1.86->optax->flax>=0.7.2->tensorflowjs)\n",
      "  Using cached toolz-0.12.1-py3-none-any.whl.metadata (5.1 kB)\n",
      "Collecting mdurl~=0.1 (from markdown-it-py>=2.2.0->rich>=11.1->flax>=0.7.2->tensorflowjs)\n",
      "  Using cached mdurl-0.1.2-py3-none-any.whl.metadata (1.6 kB)\n",
      "Collecting google-auth<3,>=1.6.3 (from tensorboard<2.16,>=2.15->tensorflow-intel==2.15.1->tensorflow<3,>=2.13.0->tensorflowjs)\n",
      "  Using cached google_auth-2.29.0-py2.py3-none-any.whl.metadata (4.7 kB)\n",
      "Collecting google-auth-oauthlib<2,>=0.5 (from tensorboard<2.16,>=2.15->tensorflow-intel==2.15.1->tensorflow<3,>=2.13.0->tensorflowjs)\n",
      "  Using cached google_auth_oauthlib-1.2.0-py2.py3-none-any.whl.metadata (2.7 kB)\n",
      "Collecting markdown>=2.6.8 (from tensorboard<2.16,>=2.15->tensorflow-intel==2.15.1->tensorflow<3,>=2.13.0->tensorflowjs)\n",
      "  Using cached Markdown-3.6-py3-none-any.whl.metadata (7.0 kB)\n",
      "Collecting tensorboard-data-server<0.8.0,>=0.7.0 (from tensorboard<2.16,>=2.15->tensorflow-intel==2.15.1->tensorflow<3,>=2.13.0->tensorflowjs)\n",
      "  Using cached tensorboard_data_server-0.7.2-py3-none-any.whl.metadata (1.1 kB)\n",
      "Collecting werkzeug>=1.0.1 (from tensorboard<2.16,>=2.15->tensorflow-intel==2.15.1->tensorflow<3,>=2.13.0->tensorflowjs)\n",
      "  Using cached werkzeug-3.0.3-py3-none-any.whl.metadata (3.7 kB)\n",
      "Collecting fsspec (from etils[epath,epy]->orbax-checkpoint->flax>=0.7.2->tensorflowjs)\n",
      "  Using cached fsspec-2024.5.0-py3-none-any.whl.metadata (11 kB)\n",
      "Collecting zipp (from etils[epath,epy]->orbax-checkpoint->flax>=0.7.2->tensorflowjs)\n",
      "  Using cached zipp-3.18.2-py3-none-any.whl.metadata (3.5 kB)\n",
      "Collecting cachetools<6.0,>=2.0.0 (from google-auth<3,>=1.6.3->tensorboard<2.16,>=2.15->tensorflow-intel==2.15.1->tensorflow<3,>=2.13.0->tensorflowjs)\n",
      "  Using cached cachetools-5.3.3-py3-none-any.whl.metadata (5.3 kB)\n",
      "Collecting pyasn1-modules>=0.2.1 (from google-auth<3,>=1.6.3->tensorboard<2.16,>=2.15->tensorflow-intel==2.15.1->tensorflow<3,>=2.13.0->tensorflowjs)\n",
      "  Using cached pyasn1_modules-0.4.0-py3-none-any.whl.metadata (3.4 kB)\n",
      "Collecting rsa<5,>=3.1.4 (from google-auth<3,>=1.6.3->tensorboard<2.16,>=2.15->tensorflow-intel==2.15.1->tensorflow<3,>=2.13.0->tensorflowjs)\n",
      "  Using cached rsa-4.9-py3-none-any.whl.metadata (4.2 kB)\n",
      "Collecting requests-oauthlib>=0.7.0 (from google-auth-oauthlib<2,>=0.5->tensorboard<2.16,>=2.15->tensorflow-intel==2.15.1->tensorflow<3,>=2.13.0->tensorflowjs)\n",
      "  Using cached requests_oauthlib-2.0.0-py2.py3-none-any.whl.metadata (11 kB)\n",
      "Collecting charset-normalizer<4,>=2 (from requests<3,>=2.21.0->tensorflow-intel==2.16.1->tensorflow<3,>=2.13.0->tensorflowjs)\n",
      "  Using cached charset_normalizer-3.3.2-cp311-cp311-win_amd64.whl.metadata (34 kB)\n",
      "Collecting idna<4,>=2.5 (from requests<3,>=2.21.0->tensorflow-intel==2.16.1->tensorflow<3,>=2.13.0->tensorflowjs)\n",
      "  Using cached idna-3.7-py3-none-any.whl.metadata (9.9 kB)\n",
      "Collecting urllib3<3,>=1.21.1 (from requests<3,>=2.21.0->tensorflow-intel==2.16.1->tensorflow<3,>=2.13.0->tensorflowjs)\n",
      "  Using cached urllib3-2.2.1-py3-none-any.whl.metadata (6.4 kB)\n",
      "Collecting certifi>=2017.4.17 (from requests<3,>=2.21.0->tensorflow-intel==2.16.1->tensorflow<3,>=2.13.0->tensorflowjs)\n",
      "  Using cached certifi-2024.2.2-py3-none-any.whl.metadata (2.2 kB)\n",
      "Collecting MarkupSafe>=2.1.1 (from werkzeug>=1.0.1->tensorboard<2.16,>=2.15->tensorflow-intel==2.15.1->tensorflow<3,>=2.13.0->tensorflowjs)\n",
      "  Using cached MarkupSafe-2.1.5-cp311-cp311-win_amd64.whl.metadata (3.1 kB)\n",
      "Collecting pyasn1<0.7.0,>=0.4.6 (from pyasn1-modules>=0.2.1->google-auth<3,>=1.6.3->tensorboard<2.16,>=2.15->tensorflow-intel==2.15.1->tensorflow<3,>=2.13.0->tensorflowjs)\n",
      "  Using cached pyasn1-0.6.0-py2.py3-none-any.whl.metadata (8.3 kB)\n",
      "Collecting oauthlib>=3.0.0 (from requests-oauthlib>=0.7.0->google-auth-oauthlib<2,>=0.5->tensorboard<2.16,>=2.15->tensorflow-intel==2.15.1->tensorflow<3,>=2.13.0->tensorflowjs)\n",
      "  Using cached oauthlib-3.2.2-py3-none-any.whl.metadata (7.5 kB)\n",
      "Using cached tensorflowjs-4.19.0-py3-none-any.whl (89 kB)\n",
      "Using cached flax-0.8.3-py3-none-any.whl (685 kB)\n",
      "Using cached importlib_resources-6.4.0-py3-none-any.whl (38 kB)\n",
      "Using cached jax-0.4.28-py3-none-any.whl (1.9 MB)\n",
      "Using cached jaxlib-0.4.28-cp311-cp311-win_amd64.whl (51.5 MB)\n",
      "Using cached packaging-23.2-py3-none-any.whl (53 kB)\n",
      "Using cached six-1.16.0-py2.py3-none-any.whl (11 kB)\n",
      "Using cached tensorflow-2.15.1-cp311-cp311-win_amd64.whl (2.1 kB)\n",
      "Using cached tensorflow_intel-2.15.1-cp311-cp311-win_amd64.whl (300.9 MB)\n",
      "Using cached tensorflow_hub-0.16.1-py2.py3-none-any.whl (30 kB)\n",
      "Using cached tf_keras-2.15.1-py3-none-any.whl (1.7 MB)\n",
      "Using cached absl_py-2.1.0-py3-none-any.whl (133 kB)\n",
      "Using cached ml_dtypes-0.3.2-cp311-cp311-win_amd64.whl (127 kB)\n",
      "Using cached numpy-1.26.4-cp311-cp311-win_amd64.whl (15.8 MB)\n",
      "Using cached opt_einsum-3.3.0-py3-none-any.whl (65 kB)\n",
      "Using cached protobuf-4.25.3-cp310-abi3-win_amd64.whl (413 kB)\n",
      "Using cached PyYAML-6.0.1-cp311-cp311-win_amd64.whl (144 kB)\n",
      "Using cached rich-13.7.1-py3-none-any.whl (240 kB)\n",
      "Using cached scipy-1.13.0-cp311-cp311-win_amd64.whl (46.2 MB)\n",
      "Using cached typing_extensions-4.11.0-py3-none-any.whl (34 kB)\n",
      "Using cached msgpack-1.0.8-cp311-cp311-win_amd64.whl (75 kB)\n",
      "Using cached optax-0.2.2-py3-none-any.whl (223 kB)\n",
      "Using cached orbax_checkpoint-0.5.11-py3-none-any.whl (203 kB)\n",
      "Using cached tensorstore-0.1.59-cp311-cp311-win_amd64.whl (11.4 MB)\n",
      "Using cached pandas-2.2.2-cp311-cp311-win_amd64.whl (11.6 MB)\n",
      "Using cached wheel-0.43.0-py3-none-any.whl (65 kB)\n",
      "Using cached wurlitzer-3.1.0-py3-none-any.whl (8.4 kB)\n",
      "Using cached astunparse-1.6.3-py2.py3-none-any.whl (12 kB)\n",
      "Using cached chex-0.1.86-py3-none-any.whl (98 kB)\n",
      "Using cached flatbuffers-24.3.25-py2.py3-none-any.whl (26 kB)\n",
      "Using cached gast-0.5.4-py3-none-any.whl (19 kB)\n",
      "Using cached google_pasta-0.2.0-py3-none-any.whl (57 kB)\n",
      "Using cached grpcio-1.63.0-cp311-cp311-win_amd64.whl (3.9 MB)\n",
      "Using cached h5py-3.11.0-cp311-cp311-win_amd64.whl (3.0 MB)\n",
      "Using cached keras-2.15.0-py3-none-any.whl (1.7 MB)\n",
      "Using cached libclang-18.1.1-py2.py3-none-win_amd64.whl (26.4 MB)\n",
      "Using cached markdown_it_py-3.0.0-py3-none-any.whl (87 kB)\n",
      "Using cached pygments-2.18.0-py3-none-any.whl (1.2 MB)\n",
      "Using cached python_dateutil-2.9.0.post0-py2.py3-none-any.whl (229 kB)\n",
      "Using cached pytz-2024.1-py2.py3-none-any.whl (505 kB)\n",
      "Using cached tensorboard-2.15.2-py3-none-any.whl (5.5 MB)\n",
      "Using cached setuptools-69.5.1-py3-none-any.whl (894 kB)\n",
      "Using cached tensorflow_estimator-2.15.0-py2.py3-none-any.whl (441 kB)\n",
      "Using cached tensorflow_io_gcs_filesystem-0.31.0-cp311-cp311-win_amd64.whl (1.5 MB)\n",
      "Using cached termcolor-2.4.0-py3-none-any.whl (7.7 kB)\n",
      "Using cached tzdata-2024.1-py2.py3-none-any.whl (345 kB)\n",
      "Using cached wrapt-1.14.1-cp311-cp311-win_amd64.whl (35 kB)\n",
      "Using cached nest_asyncio-1.6.0-py3-none-any.whl (5.2 kB)\n",
      "Using cached google_auth-2.29.0-py2.py3-none-any.whl (189 kB)\n",
      "Using cached google_auth_oauthlib-1.2.0-py2.py3-none-any.whl (24 kB)\n",
      "Using cached Markdown-3.6-py3-none-any.whl (105 kB)\n",
      "Using cached mdurl-0.1.2-py3-none-any.whl (10.0 kB)\n",
      "Using cached requests-2.31.0-py3-none-any.whl (62 kB)\n",
      "Using cached tensorboard_data_server-0.7.2-py3-none-any.whl (2.4 kB)\n",
      "Using cached toolz-0.12.1-py3-none-any.whl (56 kB)\n",
      "Using cached werkzeug-3.0.3-py3-none-any.whl (227 kB)\n",
      "Using cached etils-1.8.0-py3-none-any.whl (156 kB)\n",
      "Using cached fsspec-2024.5.0-py3-none-any.whl (316 kB)\n",
      "Using cached zipp-3.18.2-py3-none-any.whl (8.3 kB)\n",
      "Using cached cachetools-5.3.3-py3-none-any.whl (9.3 kB)\n",
      "Using cached certifi-2024.2.2-py3-none-any.whl (163 kB)\n",
      "Using cached charset_normalizer-3.3.2-cp311-cp311-win_amd64.whl (99 kB)\n",
      "Using cached idna-3.7-py3-none-any.whl (66 kB)\n",
      "Using cached MarkupSafe-2.1.5-cp311-cp311-win_amd64.whl (17 kB)\n",
      "Using cached pyasn1_modules-0.4.0-py3-none-any.whl (181 kB)\n",
      "Using cached requests_oauthlib-2.0.0-py2.py3-none-any.whl (24 kB)\n",
      "Using cached rsa-4.9-py3-none-any.whl (34 kB)\n",
      "Using cached urllib3-2.2.1-py3-none-any.whl (121 kB)\n",
      "Using cached oauthlib-3.2.2-py3-none-any.whl (151 kB)\n",
      "Using cached pyasn1-0.6.0-py2.py3-none-any.whl (85 kB)\n",
      "Installing collected packages: pytz, libclang, flatbuffers, zipp, wurlitzer, wrapt, wheel, urllib3, tzdata, typing-extensions, toolz, termcolor, tensorflow-io-gcs-filesystem, tensorflow-estimator, tensorboard-data-server, six, setuptools, PyYAML, pygments, pyasn1, protobuf, packaging, oauthlib, numpy, nest_asyncio, msgpack, mdurl, MarkupSafe, markdown, keras, importlib_resources, idna, grpcio, gast, fsspec, etils, charset-normalizer, certifi, cachetools, absl-py, werkzeug, scipy, rsa, requests, python-dateutil, pyasn1-modules, opt-einsum, ml-dtypes, markdown-it-py, h5py, google-pasta, astunparse, tensorstore, rich, requests-oauthlib, pandas, jaxlib, jax, google-auth, orbax-checkpoint, google-auth-oauthlib, chex, tensorboard, optax, tensorflow-intel, flax, tensorflow, tf-keras, tensorflow-decision-forests, tensorflow-hub, tensorflowjs\n"
     ]
    },
    {
     "name": "stderr",
     "output_type": "stream",
     "text": [
      "ERROR: Could not install packages due to an OSError: [WinError 5] 存取被拒。: 'C:\\\\Users\\\\riann\\\\anaconda3\\\\envs\\\\AI_FP\\\\Lib\\\\site-packages\\\\wrapt\\\\_wrappers.cp311-win_amd64.pyd'\n",
      "Consider using the `--user` option or check the permissions.\n",
      "\n"
     ]
    }
   ],
   "source": [
    "# --ignore-installed is added to fix an error.\n",
    "\n",
    "# https://stackoverflow.com/questions/49932759/pip-10-and-apt-how-to-avoid-cannot-uninstall\n",
    "# -x-errors-for-distutils-packages\n",
    "\n",
    "!pip install tensorflowjs --ignore-installed"
   ]
  },
  {
   "cell_type": "code",
   "execution_count": 24,
   "metadata": {
    "executionInfo": {
     "elapsed": 2,
     "status": "aborted",
     "timestamp": 1716057815584,
     "user": {
      "displayName": "曾若恩",
      "userId": "06852139178101415021"
     },
     "user_tz": -480
    },
    "id": "huGNhGTT-KZB"
   },
   "outputs": [
    {
     "name": "stderr",
     "output_type": "stream",
     "text": [
      "'tensorflowjs_converter' 不是內部或外部命令、可執行的程式或批次檔。\n"
     ]
    }
   ],
   "source": [
    "# Use the command line conversion tool to convert the model\n",
    "\n",
    "!tensorflowjs_converter --input_format keras model.h5 tfjs/model"
   ]
  },
  {
   "cell_type": "code",
   "execution_count": 25,
   "metadata": {
    "executionInfo": {
     "elapsed": 2,
     "status": "aborted",
     "timestamp": 1716057815584,
     "user": {
      "displayName": "曾若恩",
      "userId": "06852139178101415021"
     },
     "user_tz": -480
    },
    "id": "6Zp1c72w-KZC"
   },
   "outputs": [
    {
     "name": "stderr",
     "output_type": "stream",
     "text": [
      "'ls' 不是內部或外部命令、可執行的程式或批次檔。\n"
     ]
    }
   ],
   "source": [
    "# check that the folder containing the tfjs model files has been created\n",
    "!ls"
   ]
  },
  {
   "cell_type": "markdown",
   "metadata": {
    "id": "ZGg0RI-r-KZC"
   },
   "source": [
    "## Conclusion"
   ]
  },
  {
   "cell_type": "markdown",
   "metadata": {
    "id": "Qf23p_jo-KZC"
   },
   "source": [
    "We see that the results are unexpectedly good. Who would have thought that a simple cnn could perform this well. With only 1,190 training images it appears that it is in fact possible to build a cell counting model that produces good results.\n",
    "\n",
    "You will notice that the model has a padding layer. Padding the images helped to improve the model's performance. This could be because padding helped the model to detect cells that are located at the edges of the masks.\n",
    "\n",
    "Intuitively one would think that to improve the model's performance we need to add more images that look like paint splashes. Surprisingly, while doing different experiments, I saw that the model found it easier to analyze paint splash images and images with a large number of cells. It struggled a bit with images that showed a few individual cells. Therefore, one preliminary conclusion is that, in order to improve model performance, we need to add more images showing just a few individual cells (about 1 to 14 cells).\n",
    "\n",
    "It's important to take note that the results are different each time this kernel is run. This could be because Keras uses a different validation set each time. Therefore, it's advisable to perform 5 fold cross validation to get a more confident estimate of this models performance.\n",
    "\n",
    "Thank you for reading."
   ]
  }
 ],
 "metadata": {
  "accelerator": "GPU",
  "colab": {
   "gpuType": "T4",
   "provenance": []
  },
  "kaggle": {
   "accelerator": "gpu",
   "dataSources": [
    {
     "datasetId": 205933,
     "sourceId": 451637,
     "sourceType": "datasetVersion"
    }
   ],
   "dockerImageVersionId": 25114,
   "isGpuEnabled": true,
   "isInternetEnabled": false,
   "language": "python",
   "sourceType": "notebook"
  },
  "kernelspec": {
   "display_name": "Python 3 (ipykernel)",
   "language": "python",
   "name": "python3"
  },
  "language_info": {
   "codemirror_mode": {
    "name": "ipython",
    "version": 3
   },
   "file_extension": ".py",
   "mimetype": "text/x-python",
   "name": "python",
   "nbconvert_exporter": "python",
   "pygments_lexer": "ipython3",
   "version": "3.11.9"
  }
 },
 "nbformat": 4,
 "nbformat_minor": 4
}
